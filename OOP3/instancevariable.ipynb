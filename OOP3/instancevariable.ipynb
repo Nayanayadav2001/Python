{
 "cells": [
  {
   "cell_type": "code",
   "execution_count": 1,
   "id": "2c141699-e952-4c35-851a-6a1e0d74158c",
   "metadata": {},
   "outputs": [],
   "source": [
    "#instance variable - if variable values is varried from object to object"
   ]
  },
  {
   "cell_type": "code",
   "execution_count": 6,
   "id": "e78d8200-628a-4be1-a924-d3d5deeed443",
   "metadata": {},
   "outputs": [
    {
     "name": "stdout",
     "output_type": "stream",
     "text": [
      "{'eid': 101, 'ename': 'Rahul'}\n",
      "{'eid': 102, 'ename': 'Sonia'}\n",
      "{'eid': 101, 'ename': 'Rahul', 'esal': 45000}\n",
      "{'eid': 102, 'ename': 'Sonia', 'esal': 55000}\n",
      "{'eid': 101, 'ename': 'Rahul', 'esal': 45000, 'eloc': 'Bangalore'}\n"
     ]
    }
   ],
   "source": [
    "#how to create instance variable\n",
    "#inside a constructor -using self\n",
    "class Employee:\n",
    "    def __init__(self,id,name):\n",
    "        self.eid=id\n",
    "        self.ename=name\n",
    "        \n",
    "    def set_sal(self,sal): #inside a instance method -using self\n",
    "        self.esal=sal\n",
    "\n",
    "a1=Employee(101,'Rahul')\n",
    "a2=Employee(102,'Sonia')\n",
    "print(a1.__dict__)\n",
    "print(a2.__dict__)\n",
    "\n",
    "a1.set_sal(45000)\n",
    "a2.set_sal(55000)\n",
    "print(a1.__dict__)\n",
    "print(a2.__dict__)\n",
    "\n",
    "#outside a class, using object referance\n",
    "a1.eloc=\"Bangalore\"\n",
    "print(a1.__dict__)\n",
    "            "
   ]
  },
  {
   "cell_type": "code",
   "execution_count": 7,
   "id": "267de0a1-561e-467f-81d6-4f7bf2a38588",
   "metadata": {},
   "outputs": [],
   "source": [
    "#how to read? -using self\n",
    "#inside a class -using self\n",
    "#outside a class -using object"
   ]
  },
  {
   "cell_type": "code",
   "execution_count": 8,
   "id": "5341e842-528d-4ca8-b573-28e6236e4263",
   "metadata": {},
   "outputs": [
    {
     "name": "stdout",
     "output_type": "stream",
     "text": [
      "5000\n",
      "5000\n"
     ]
    }
   ],
   "source": [
    "class Account:\n",
    "    def __init__(self):\n",
    "        self.acc_bal=5000\n",
    "        \n",
    "    def get_bal(self):\n",
    "        return self.acc_bal\n",
    "\n",
    "a1=Account()\n",
    "print(a1.get_bal())\n",
    "print(a1.acc_bal)\n",
    "        "
   ]
  },
  {
   "cell_type": "code",
   "execution_count": 9,
   "id": "2c685dc0-741e-4512-b9c0-3327885c6430",
   "metadata": {},
   "outputs": [
    {
     "name": "stdout",
     "output_type": "stream",
     "text": [
      "5000\n",
      "5000\n",
      "6000\n",
      "6000\n"
     ]
    }
   ],
   "source": [
    "#how to update?\n",
    "class Account:\n",
    "    def __init__(self):\n",
    "        self.acc_bal=5000\n",
    "        \n",
    "    def get_bal(self):\n",
    "        return self.acc_bal\n",
    "    def update_bal(self):\n",
    "        self.acc_bal=6000\n",
    "\n",
    "a1=Account()\n",
    "print(a1.get_bal())\n",
    "print(a1.acc_bal)\n",
    "\n",
    "a1.update_bal()\n",
    "\n",
    "print(a1.get_bal())\n",
    "print(a1.acc_bal)\n"
   ]
  },
  {
   "cell_type": "code",
   "execution_count": null,
   "id": "d86e4183-9ec0-4253-ad28-6ff4f350d87c",
   "metadata": {},
   "outputs": [],
   "source": [
    "#how to delete?\n",
    "#inside a class -using del\n",
    "#outside a class -using onject name"
   ]
  }
 ],
 "metadata": {
  "kernelspec": {
   "display_name": "Python 3 (ipykernel)",
   "language": "python",
   "name": "python3"
  },
  "language_info": {
   "codemirror_mode": {
    "name": "ipython",
    "version": 3
   },
   "file_extension": ".py",
   "mimetype": "text/x-python",
   "name": "python",
   "nbconvert_exporter": "python",
   "pygments_lexer": "ipython3",
   "version": "3.12.3"
  }
 },
 "nbformat": 4,
 "nbformat_minor": 5
}
