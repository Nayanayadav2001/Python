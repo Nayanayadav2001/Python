{
 "cells": [
  {
   "cell_type": "code",
   "execution_count": 1,
   "id": "20034f37-756a-48c9-b9de-8e9abeab9747",
   "metadata": {},
   "outputs": [
    {
     "name": "stdout",
     "output_type": "stream",
     "text": [
      "{}\n",
      "{}\n",
      "{'__module__': '__main__', '__dict__': <attribute '__dict__' of 'Test' objects>, '__weakref__': <attribute '__weakref__' of 'Test' objects>, '__doc__': None}\n"
     ]
    }
   ],
   "source": [
    "class Test:\n",
    "    pass\n",
    "\n",
    "t1=Test()\n",
    "t2=Test()\n",
    "\n",
    "print(t1.__dict__)\n",
    "print(t2.__dict__)\n",
    "print(Test.__dict__)"
   ]
  },
  {
   "cell_type": "code",
   "execution_count": 1,
   "id": "d99132fa-e7ca-4f47-8d11-4c5a45013f58",
   "metadata": {},
   "outputs": [
    {
     "name": "stdout",
     "output_type": "stream",
     "text": [
      "created by Nayana, learning variable topics\n"
     ]
    }
   ],
   "source": [
    "class Test:\n",
    "    '''created by Nayana, learning variable topics'''\n",
    "    pass\n",
    "\n",
    "print(Test.__doc__)"
   ]
  },
  {
   "cell_type": "code",
   "execution_count": 2,
   "id": "e12d89b5-e5e0-443a-ad39-f8265f9fa2dd",
   "metadata": {},
   "outputs": [
    {
     "name": "stdout",
     "output_type": "stream",
     "text": [
      "{'a': 100}\n",
      "{'a': 100}\n",
      "{'__module__': '__main__', '__init__': <function Test.__init__ at 0x0000029AB5B0CB80>, '__dict__': <attribute '__dict__' of 'Test' objects>, '__weakref__': <attribute '__weakref__' of 'Test' objects>, '__doc__': None}\n"
     ]
    }
   ],
   "source": [
    "class Test:\n",
    "    def __init__(self):\n",
    "        self.a=100\n",
    "\n",
    "t1=Test()\n",
    "t2=Test()\n",
    "\n",
    "print(t1.__dict__)\n",
    "print(t2.__dict__)\n",
    "print(Test.__dict__)"
   ]
  },
  {
   "cell_type": "code",
   "execution_count": 4,
   "id": "d39c631d-8169-4a65-bae3-ce95f003d37c",
   "metadata": {},
   "outputs": [
    {
     "name": "stdout",
     "output_type": "stream",
     "text": [
      "{'a': 100, 'b': 200, 'c': 300}\n",
      "{'a': 100}\n",
      "{'__module__': '__main__', '__init__': <function Test.__init__ at 0x0000029AB5B0C4A0>, 'm1': <function Test.m1 at 0x0000029AB5B0C540>, '__dict__': <attribute '__dict__' of 'Test' objects>, '__weakref__': <attribute '__weakref__' of 'Test' objects>, '__doc__': None}\n"
     ]
    }
   ],
   "source": [
    "class Test:\n",
    "    def __init__(self):\n",
    "        self.a=100\n",
    "    def m1(self):\n",
    "        self.b=200\n",
    "\n",
    "t1=Test()\n",
    "t1.m1()\n",
    "t1.c=300\n",
    "t2=Test()\n",
    "\n",
    "print(t1.__dict__)\n",
    "print(t2.__dict__)\n",
    "print(Test.__dict__)"
   ]
  },
  {
   "cell_type": "code",
   "execution_count": 5,
   "id": "cb4a1c3b-f989-4ccc-bb10-f2e9aae9c545",
   "metadata": {},
   "outputs": [
    {
     "name": "stdout",
     "output_type": "stream",
     "text": [
      "{'a': 100, 'b': 200}\n",
      "{'a': 100}\n",
      "{'__module__': '__main__', '__init__': <function Test.__init__ at 0x0000029AB5B0C9A0>, 'm1': <function Test.m1 at 0x0000029AB5B0C360>, '__dict__': <attribute '__dict__' of 'Test' objects>, '__weakref__': <attribute '__weakref__' of 'Test' objects>, '__doc__': None}\n"
     ]
    }
   ],
   "source": [
    "class Test:\n",
    "    def __init__(self):\n",
    "        self.a=100\n",
    "    def m1(self):\n",
    "        self.b=200\n",
    "\n",
    "t1=Test()\n",
    "t1.m1()\n",
    "t2=Test()\n",
    "\n",
    "print(t1.__dict__)\n",
    "print(t2.__dict__)\n",
    "print(Test.__dict__)\n",
    "    "
   ]
  },
  {
   "cell_type": "code",
   "execution_count": 6,
   "id": "54b3bf7d-a471-4219-8137-22825deeffc4",
   "metadata": {},
   "outputs": [
    {
     "name": "stdout",
     "output_type": "stream",
     "text": [
      "{'a': 100, 'b': 200, 'c': 300}\n",
      "{'a': 100, 'd': 400}\n",
      "{'__module__': '__main__', '__init__': <function Test.__init__ at 0x0000029AB5B0CFE0>, 'm1': <function Test.m1 at 0x0000029AB5B0D080>, '__dict__': <attribute '__dict__' of 'Test' objects>, '__weakref__': <attribute '__weakref__' of 'Test' objects>, '__doc__': None}\n"
     ]
    }
   ],
   "source": [
    "class Test:\n",
    "    def __init__(self):\n",
    "        self.a=100\n",
    "    def m1(self):\n",
    "        self.b=200\n",
    "\n",
    "t1=Test()\n",
    "t1.m1()\n",
    "t1.c=300\n",
    "t2=Test()\n",
    "t2.d=400\n",
    "\n",
    "print(t1.__dict__)\n",
    "print(t2.__dict__)\n",
    "print(Test.__dict__)"
   ]
  },
  {
   "cell_type": "code",
   "execution_count": 8,
   "id": "14637be2-101c-423a-b6e5-981167c9c8f3",
   "metadata": {},
   "outputs": [
    {
     "name": "stdout",
     "output_type": "stream",
     "text": [
      "{'b': 200}\n",
      "{'a': 100}\n"
     ]
    }
   ],
   "source": [
    "class Test:\n",
    "    def __init__(self):\n",
    "        self.a=100\n",
    "    def m1(self):\n",
    "        self.b=200\n",
    "\n",
    "t1=Test()\n",
    "t1.m1()\n",
    "t1.c=300\n",
    "t2=Test()\n",
    "t2.d=400\n",
    "\n",
    "del t1.a\n",
    "del t1.c\n",
    "del t2.d\n",
    "\n",
    "print(t1.__dict__)\n",
    "print(t2.__dict__)"
   ]
  },
  {
   "cell_type": "code",
   "execution_count": null,
   "id": "274a33c5-b64e-42d7-b3ab-87043181a626",
   "metadata": {},
   "outputs": [],
   "source": []
  }
 ],
 "metadata": {
  "kernelspec": {
   "display_name": "Python 3 (ipykernel)",
   "language": "python",
   "name": "python3"
  },
  "language_info": {
   "codemirror_mode": {
    "name": "ipython",
    "version": 3
   },
   "file_extension": ".py",
   "mimetype": "text/x-python",
   "name": "python",
   "nbconvert_exporter": "python",
   "pygments_lexer": "ipython3",
   "version": "3.12.3"
  }
 },
 "nbformat": 4,
 "nbformat_minor": 5
}
