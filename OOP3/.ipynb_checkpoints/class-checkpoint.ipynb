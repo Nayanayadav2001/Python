{
 "cells": [
  {
   "cell_type": "code",
   "execution_count": 1,
   "id": "47c8f6aa-2b4c-4b97-8948-bb10ac3054f5",
   "metadata": {},
   "outputs": [],
   "source": [
    "#to refer class members inside a class we use self keyword\n"
   ]
  },
  {
   "cell_type": "code",
   "execution_count": 6,
   "id": "e7b4ee96-f839-48d4-ab63-ef33c7dd22e4",
   "metadata": {},
   "outputs": [
    {
     "name": "stdout",
     "output_type": "stream",
     "text": [
      "{'acc_bal': 5000}\n"
     ]
    }
   ],
   "source": [
    "class Account():\n",
    "    def open_acc(self):\n",
    "        pass\n",
    "    def deposit_amt(self,amount):\n",
    "        self.acc_bal=amount\n",
    "\n",
    "a1=Account()\n",
    "a1.open_acc()\n",
    "a1.deposit_amt(5000)\n",
    "print(a1.__dict__)"
   ]
  },
  {
   "cell_type": "code",
   "execution_count": 8,
   "id": "686a5750-e8ec-4783-aa58-b0f5aa8f3c3b",
   "metadata": {},
   "outputs": [
    {
     "data": {
      "text/plain": [
       "<__main__.Test at 0x277b41dfaa0>"
      ]
     },
     "execution_count": 8,
     "metadata": {},
     "output_type": "execute_result"
    }
   ],
   "source": [
    "class Test:\n",
    "    pass   #to maintain dummy block we use pass keyword\n",
    "\n",
    "Test()"
   ]
  },
  {
   "cell_type": "code",
   "execution_count": 9,
   "id": "f417fd4b-3b8d-464f-9006-93e556072293",
   "metadata": {},
   "outputs": [
    {
     "ename": "TypeError",
     "evalue": "Test() takes no arguments",
     "output_type": "error",
     "traceback": [
      "\u001b[1;31m---------------------------------------------------------------------------\u001b[0m",
      "\u001b[1;31mTypeError\u001b[0m                                 Traceback (most recent call last)",
      "Cell \u001b[1;32mIn[9], line 4\u001b[0m\n\u001b[0;32m      1\u001b[0m \u001b[38;5;28;01mclass\u001b[39;00m \u001b[38;5;21;01mTest\u001b[39;00m:\n\u001b[0;32m      2\u001b[0m     \u001b[38;5;28;01mpass\u001b[39;00m\n\u001b[1;32m----> 4\u001b[0m \u001b[43mTest\u001b[49m\u001b[43m(\u001b[49m\u001b[38;5;241;43m1\u001b[39;49m\u001b[43m,\u001b[49m\u001b[38;5;241;43m2\u001b[39;49m\u001b[43m,\u001b[49m\u001b[38;5;241;43m3\u001b[39;49m\u001b[43m)\u001b[49m\n",
      "\u001b[1;31mTypeError\u001b[0m: Test() takes no arguments"
     ]
    }
   ],
   "source": [
    "class Test:\n",
    "    pass\n",
    "\n",
    "Test(1,2,3)"
   ]
  },
  {
   "cell_type": "code",
   "execution_count": 10,
   "id": "e21a9486-4437-4de7-b3b6-0d470d97ab7a",
   "metadata": {},
   "outputs": [],
   "source": [
    "#to initialize the arguments of object we need a special method called constructor method"
   ]
  },
  {
   "cell_type": "code",
   "execution_count": 11,
   "id": "56e90d27-3238-483b-8630-8e840644cd92",
   "metadata": {},
   "outputs": [
    {
     "name": "stdout",
     "output_type": "stream",
     "text": [
      "constructor method\n"
     ]
    },
    {
     "data": {
      "text/plain": [
       "<__main__.Test at 0x277b41df740>"
      ]
     },
     "execution_count": 11,
     "metadata": {},
     "output_type": "execute_result"
    }
   ],
   "source": [
    "class Test:\n",
    "    def __init__(self):\n",
    "        print(\"constructor method\")\n",
    "\n",
    "Test()"
   ]
  },
  {
   "cell_type": "code",
   "execution_count": 13,
   "id": "56f1fe87-5da9-4f98-b3f5-846716ea45bc",
   "metadata": {},
   "outputs": [
    {
     "data": {
      "text/plain": [
       "<__main__.Account at 0x277b431c7d0>"
      ]
     },
     "execution_count": 13,
     "metadata": {},
     "output_type": "execute_result"
    }
   ],
   "source": [
    "class Account():\n",
    "    def open_acc(self):\n",
    "        print(\"account opened successfully\")\n",
    "    def deposit_amt(self):\n",
    "        print(\"amt deposited successfully\")\n",
    "\n",
    "Account()"
   ]
  },
  {
   "cell_type": "code",
   "execution_count": 20,
   "id": "61306190-2390-4626-848f-83009104a3d3",
   "metadata": {},
   "outputs": [
    {
     "name": "stdout",
     "output_type": "stream",
     "text": [
      "{'acc_id': 101, 'acc_name': 'Nayana', 'acc_bal': 45000}\n"
     ]
    }
   ],
   "source": [
    "class Account:\n",
    "    def __init__(self,id,name,amount):\n",
    "        self.acc_id=id\n",
    "        self.acc_name=name\n",
    "        self.acc_bal=amount\n",
    "   \n",
    "a1=Account(101,\"Nayana\",45000)\n",
    "print(a1.__dict__)"
   ]
  },
  {
   "cell_type": "code",
   "execution_count": 23,
   "id": "604af45b-54ae-4261-9d47-6f02f4ec748d",
   "metadata": {},
   "outputs": [
    {
     "name": "stdout",
     "output_type": "stream",
     "text": [
      "constructor method\n",
      "GM\n"
     ]
    }
   ],
   "source": [
    "class Test:\n",
    "    def __init__(self):\n",
    "        print(\"constructor method\") #constructor\n",
    "    def get_details(self):  \n",
    "        print(\"GM\")                #instance method\n",
    "\n",
    "t1=Test()\n",
    "t1.get_details()"
   ]
  },
  {
   "cell_type": "code",
   "execution_count": 24,
   "id": "e871091b-93ff-4065-8d8b-d7b43ed1a1d9",
   "metadata": {},
   "outputs": [
    {
     "ename": "TypeError",
     "evalue": "Account() takes no arguments",
     "output_type": "error",
     "traceback": [
      "\u001b[1;31m---------------------------------------------------------------------------\u001b[0m",
      "\u001b[1;31mTypeError\u001b[0m                                 Traceback (most recent call last)",
      "Cell \u001b[1;32mIn[24], line 7\u001b[0m\n\u001b[0;32m      4\u001b[0m     \u001b[38;5;28;01mdef\u001b[39;00m \u001b[38;5;21mdeposit_amt\u001b[39m(\u001b[38;5;28mself\u001b[39m,amount):\n\u001b[0;32m      5\u001b[0m         \u001b[38;5;28mprint\u001b[39m(\u001b[38;5;124m\"\u001b[39m\u001b[38;5;124mamt deposited successfully\u001b[39m\u001b[38;5;124m\"\u001b[39m)\n\u001b[1;32m----> 7\u001b[0m a1\u001b[38;5;241m=\u001b[39m\u001b[43mAccount\u001b[49m\u001b[43m(\u001b[49m\u001b[38;5;241;43m101\u001b[39;49m\u001b[43m,\u001b[49m\u001b[38;5;124;43m'\u001b[39;49m\u001b[38;5;124;43mnayana\u001b[39;49m\u001b[38;5;124;43m'\u001b[39;49m\u001b[43m,\u001b[49m\u001b[38;5;241;43m45000\u001b[39;49m\u001b[43m)\u001b[49m\n",
      "\u001b[1;31mTypeError\u001b[0m: Account() takes no arguments"
     ]
    }
   ],
   "source": [
    "class Account:\n",
    "    def open_acc(self):\n",
    "        print(\"account opened successfully\")\n",
    "    def deposit_amt(self,amount):\n",
    "        print(\"amt deposited successfully\")\n",
    "\n",
    "a1=Account(101,'nayana',45000)"
   ]
  },
  {
   "cell_type": "code",
   "execution_count": 30,
   "id": "c8a6957c-3ad1-4623-8a07-eb9245d1ca43",
   "metadata": {},
   "outputs": [
    {
     "name": "stdout",
     "output_type": "stream",
     "text": [
      "account opened successfully!\n",
      "{'acc_id': 101, 'acc_name': 'sagar', 'acc_email': 'sagar@gmail.com', 'acc_bal': 45000}\n",
      "{'acc_id': 102, 'acc_name': 'vivek', 'acc_email': 'vivek@gmail.com', 'acc_bal': 4500}\n",
      "{'acc_id': 102, 'acc_name': 'vivek', 'acc_email': 'vivek@gmail.com', 'acc_bal': 4500}\n"
     ]
    }
   ],
   "source": [
    "class Account:\n",
    "    def __init__(self,id,name,email,amount):\n",
    "        self.acc_id=id\n",
    "        self.acc_name=name\n",
    "        self.acc_email=email\n",
    "        self.acc_bal=amount\n",
    "        \n",
    "    def open_account(self):\n",
    "        print(\"account opened successfully!\")\n",
    "    def deposit_amount(self,amount):\n",
    "        print(\"amount deposited successfully\") \n",
    "\n",
    "a1=Account(101,'sagar','sagar@gmail.com',45000)\n",
    "a1.open_account()\n",
    "a2=Account(102,'vivek','vivek@gmail.com',4500)\n",
    "a3=Account(103,'nayana','nayana@gmail.com',450)\n",
    "print(a1.__dict__)\n",
    "print(a2.__dict__)\n",
    "print(a2.__dict__)\n",
    "        "
   ]
  },
  {
   "cell_type": "code",
   "execution_count": 32,
   "id": "0269c51e-a220-4350-ac98-4c07471c44ba",
   "metadata": {},
   "outputs": [
    {
     "name": "stdout",
     "output_type": "stream",
     "text": [
      "{'acc_id': 101, 'acc_name': 'sagar', 'acc_email': 'sagar@gmail.com', 'acc_bal': 45000}\n",
      "{'acc_id': 102, 'acc_name': 'vivek', 'acc_email': 'vivek@gmail.com', 'acc_bal': 4500}\n",
      "{'acc_id': 102, 'acc_name': 'vivek', 'acc_email': 'vivek@gmail.com', 'acc_bal': 4500}\n",
      "{'__module__': '__main__', 'min_bal': 500, '__init__': <function Account.__init__ at 0x00000277B47EA2A0>, 'open_account': <function Account.open_account at 0x00000277B47E9A80>, 'deposit_amount': <function Account.deposit_amount at 0x00000277B47EA3E0>, '__dict__': <attribute '__dict__' of 'Account' objects>, '__weakref__': <attribute '__weakref__' of 'Account' objects>, '__doc__': None}\n"
     ]
    }
   ],
   "source": [
    "class Account:\n",
    "    min_bal=500\n",
    "    def __init__(self,id,name,email,amount):\n",
    "        self.acc_id=id\n",
    "        self.acc_name=name\n",
    "        self.acc_email=email\n",
    "        self.acc_bal=amount\n",
    "        \n",
    "    def open_account(self):\n",
    "        print(\"account opened successfully!\")\n",
    "    def deposit_amount(self,amount):\n",
    "        print(\"amount deposited successfully\") \n",
    "\n",
    "a1=Account(101,'sagar','sagar@gmail.com',45000)\n",
    "a2=Account(102,'vivek','vivek@gmail.com',4500)\n",
    "a3=Account(103,'nayana','nayana@gmail.com',450)\n",
    "print(a1.__dict__)\n",
    "print(a2.__dict__)\n",
    "print(a2.__dict__)\n",
    "print(Account.__dict__)"
   ]
  },
  {
   "cell_type": "code",
   "execution_count": null,
   "id": "4abd2c63-9fd2-4294-b71f-0f4f99cfef26",
   "metadata": {},
   "outputs": [],
   "source": []
  }
 ],
 "metadata": {
  "kernelspec": {
   "display_name": "Python 3 (ipykernel)",
   "language": "python",
   "name": "python3"
  },
  "language_info": {
   "codemirror_mode": {
    "name": "ipython",
    "version": 3
   },
   "file_extension": ".py",
   "mimetype": "text/x-python",
   "name": "python",
   "nbconvert_exporter": "python",
   "pygments_lexer": "ipython3",
   "version": "3.12.3"
  }
 },
 "nbformat": 4,
 "nbformat_minor": 5
}
