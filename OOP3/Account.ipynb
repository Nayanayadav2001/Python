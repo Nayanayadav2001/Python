{
 "cells": [
  {
   "cell_type": "code",
   "execution_count": 17,
   "id": "f5507e32-b6ca-4b3d-9484-d2e7eff27fab",
   "metadata": {},
   "outputs": [
    {
     "name": "stdout",
     "output_type": "stream",
     "text": [
      "{'acc_id': 101, 'acc_name': 'nayana', 'acc_email': 'nayana@gmail.com', 'acc_bal': 45000}\n",
      "acc opened successfully\n",
      "amt deposited successfully\n",
      "{'acc_id': 101, 'acc_name': 'nayana', 'acc_email': 'nayana@gmail.com', 'acc_bal': 50000}\n",
      "amt withdraw successful\n",
      "{'acc_id': 101, 'acc_name': 'nayana', 'acc_email': 'nayana@gmail.com', 'acc_bal': 49500}\n",
      "49500\n",
      "{'acc_id': 101, 'acc_name': 'nayana', 'acc_email': 'nayana@gmail.com', 'acc_bal': 49500, 'branch_name': 'Bangalore'}\n"
     ]
    }
   ],
   "source": [
    "class Account:\n",
    "    def __init__(self,id,name,email,amount):\n",
    "        self.acc_id=id\n",
    "        self.acc_name=name\n",
    "        self.acc_email=email\n",
    "        self.acc_bal=amount\n",
    "    def open_acc(self):\n",
    "        print(\"acc opened successfully\")\n",
    "    def deposit_amt(self,amount):\n",
    "        self.acc_bal=self.acc_bal+amount\n",
    "        print(\"amt deposited successfully\")\n",
    "    def withdrawl(self,amount):\n",
    "        self.acc_bal=self.acc_bal-amount\n",
    "        print(\"amt withdraw successful\")\n",
    "    def get_bal(self):\n",
    "        return self.acc_bal\n",
    "\n",
    "a1=Account(101,'nayana','nayana@gmail.com',45000)\n",
    "print(a1.__dict__)\n",
    "\n",
    "a1.open_acc()\n",
    "a1.deposit_amt(5000)\n",
    "print(a1.__dict__)\n",
    "\n",
    "a1.withdrawl(500)\n",
    "print(a1.__dict__)\n",
    "\n",
    "print(a1.get_bal())\n",
    "\n",
    "a1.branch_name=\"Bangalore\"\n",
    "print(a1.__dict__)"
   ]
  },
  {
   "cell_type": "code",
   "execution_count": null,
   "id": "dca22e49-3da8-4f8a-b03e-dbd682052441",
   "metadata": {},
   "outputs": [],
   "source": []
  },
  {
   "cell_type": "code",
   "execution_count": null,
   "id": "7cb8c879-2c78-4b35-9454-580ee46c4d18",
   "metadata": {},
   "outputs": [],
   "source": []
  }
 ],
 "metadata": {
  "kernelspec": {
   "display_name": "Python 3 (ipykernel)",
   "language": "python",
   "name": "python3"
  },
  "language_info": {
   "codemirror_mode": {
    "name": "ipython",
    "version": 3
   },
   "file_extension": ".py",
   "mimetype": "text/x-python",
   "name": "python",
   "nbconvert_exporter": "python",
   "pygments_lexer": "ipython3",
   "version": "3.12.3"
  }
 },
 "nbformat": 4,
 "nbformat_minor": 5
}
