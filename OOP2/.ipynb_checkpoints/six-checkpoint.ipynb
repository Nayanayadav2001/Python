{
 "cells": [
  {
   "cell_type": "code",
   "execution_count": 1,
   "id": "de60f1dc-d3b7-4cf7-9042-13d1798ac44a",
   "metadata": {},
   "outputs": [
    {
     "name": "stdout",
     "output_type": "stream",
     "text": [
      "{'__module__': '__main__', 'a': 10, 'm1': <function Test.m1 at 0x000001273175C4A0>, 'm2': <function Test.m2 at 0x000001273175CCC0>, 'm3': <function Test.m3 at 0x000001273175CA40>, '__dict__': <attribute '__dict__' of 'Test' objects>, '__weakref__': <attribute '__weakref__' of 'Test' objects>, '__doc__': None}\n",
      "{'b': 20, 'c': 30}\n",
      "{'d': 40, 'c': 300}\n",
      "{'b': 20, 'c': 30, 'd': 40}\n",
      "{}\n"
     ]
    }
   ],
   "source": [
    "class Test:\n",
    "    a=10 #static variable\n",
    "    def m1(self):\n",
    "        self.b=20\n",
    "    def m2(self):\n",
    "        self.c=30\n",
    "    def m3(self):\n",
    "        self.d=40\n",
    "\n",
    "t1=Test()\n",
    "print(Test.__dict__)\n",
    "\n",
    "t1.m1()\n",
    "t1.m2()\n",
    "print(t1.__dict__)\n",
    "\n",
    "t2=Test()\n",
    "t2.m3()\n",
    "t2.c=300\n",
    "print(t2.__dict__)\n",
    "\n",
    "t3=Test()\n",
    "t3.m1()\n",
    "t3.m2()\n",
    "t3.m3()\n",
    "print(t3.__dict__)\n",
    "\n",
    "t4=Test()\n",
    "print(t4.__dict__)\n",
    "        "
   ]
  },
  {
   "cell_type": "code",
   "execution_count": null,
   "id": "78fd0773-789d-4b28-bea1-b752132e6911",
   "metadata": {},
   "outputs": [],
   "source": []
  }
 ],
 "metadata": {
  "kernelspec": {
   "display_name": "Python 3 (ipykernel)",
   "language": "python",
   "name": "python3"
  },
  "language_info": {
   "codemirror_mode": {
    "name": "ipython",
    "version": 3
   },
   "file_extension": ".py",
   "mimetype": "text/x-python",
   "name": "python",
   "nbconvert_exporter": "python",
   "pygments_lexer": "ipython3",
   "version": "3.12.3"
  }
 },
 "nbformat": 4,
 "nbformat_minor": 5
}
