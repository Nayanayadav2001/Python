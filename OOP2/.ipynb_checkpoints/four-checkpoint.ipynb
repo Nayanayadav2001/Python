{
 "cells": [
  {
   "cell_type": "code",
   "execution_count": 2,
   "id": "ab111ff3-6cde-4efb-b8b6-06b85b63581a",
   "metadata": {},
   "outputs": [
    {
     "name": "stdout",
     "output_type": "stream",
     "text": [
      "{}\n",
      "{'b': 20, 'c': 30}\n",
      "{'c': 30, 'd': 40}\n"
     ]
    }
   ],
   "source": [
    "class Test:\n",
    "    a=10\n",
    "    def m1(self):\n",
    "        self.b=20\n",
    "    def m2(self):\n",
    "        self.c=30\n",
    "    def m3(self):\n",
    "        self.d=40\n",
    "\n",
    "t1=Test()\n",
    "print(t1.__dict__)\n",
    "t1.m1()\n",
    "t1.m2()\n",
    "print(t1.__dict__)\n",
    "\n",
    "t2=Test()\n",
    "t2.m2()\n",
    "t2.m3()\n",
    "print(t2.__dict__)"
   ]
  },
  {
   "cell_type": "code",
   "execution_count": null,
   "id": "e05909e2-9693-4782-ad5f-31d1b7a2eaa1",
   "metadata": {},
   "outputs": [],
   "source": []
  }
 ],
 "metadata": {
  "kernelspec": {
   "display_name": "Python 3 (ipykernel)",
   "language": "python",
   "name": "python3"
  },
  "language_info": {
   "codemirror_mode": {
    "name": "ipython",
    "version": 3
   },
   "file_extension": ".py",
   "mimetype": "text/x-python",
   "name": "python",
   "nbconvert_exporter": "python",
   "pygments_lexer": "ipython3",
   "version": "3.12.3"
  }
 },
 "nbformat": 4,
 "nbformat_minor": 5
}
