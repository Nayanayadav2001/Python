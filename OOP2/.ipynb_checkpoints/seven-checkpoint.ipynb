{
 "cells": [
  {
   "cell_type": "code",
   "execution_count": 6,
   "id": "41725370-eec5-403e-bc45-91f03a7c4553",
   "metadata": {},
   "outputs": [
    {
     "name": "stdout",
     "output_type": "stream",
     "text": [
      "{'a': 20}\n",
      "{'__module__': '__main__', 'm1': <function Test.m1 at 0x000001B755782020>, 'm2': <classmethod(<function Test.m2 at 0x000001B7557814E0>)>, 'm3': <staticmethod(<function Test.m3 at 0x000001B755782160>)>, '__dict__': <attribute '__dict__' of 'Test' objects>, '__weakref__': <attribute '__weakref__' of 'Test' objects>, '__doc__': None, 'b': 30}\n"
     ]
    }
   ],
   "source": [
    "class Test:\n",
    "    \n",
    "    def m1(self):\n",
    "        self.a=20\n",
    "    @classmethod\n",
    "    def m2(cls):\n",
    "        cls.b=30\n",
    "    @staticmethod\n",
    "    def m3():\n",
    "        c=30\n",
    "\n",
    "t1=Test()\n",
    "t1.m1()\n",
    "t1.m2()\n",
    "t1.m3()\n",
    "\n",
    "print(t1.__dict__)\n",
    "print(Test.__dict__)\n",
    "        "
   ]
  },
  {
   "cell_type": "code",
   "execution_count": null,
   "id": "1500bcc9-73df-45a1-8dde-cca735db0749",
   "metadata": {},
   "outputs": [],
   "source": []
  }
 ],
 "metadata": {
  "kernelspec": {
   "display_name": "Python 3 (ipykernel)",
   "language": "python",
   "name": "python3"
  },
  "language_info": {
   "codemirror_mode": {
    "name": "ipython",
    "version": 3
   },
   "file_extension": ".py",
   "mimetype": "text/x-python",
   "name": "python",
   "nbconvert_exporter": "python",
   "pygments_lexer": "ipython3",
   "version": "3.12.3"
  }
 },
 "nbformat": 4,
 "nbformat_minor": 5
}
