{
 "cells": [
  {
   "cell_type": "code",
   "execution_count": 1,
   "id": "3b01bdfe-1dcd-4e8a-9b3e-74c513ebac36",
   "metadata": {},
   "outputs": [],
   "source": [
    "#Object oriented programming features\n",
    "#To solve real world problems using object"
   ]
  },
  {
   "cell_type": "code",
   "execution_count": 3,
   "id": "29f24827-4259-4247-b978-ea5505527b57",
   "metadata": {},
   "outputs": [],
   "source": [
    "#Class is template to construct object,once object is created, memory location is allocated\n",
    "class Emp:\n",
    "    pass\n",
    "e1=Emp()\n",
    "# How to access class members - using object"
   ]
  },
  {
   "cell_type": "code",
   "execution_count": 4,
   "id": "94b626af-61a9-4e02-9070-b3ff2bdb5095",
   "metadata": {},
   "outputs": [
    {
     "ename": "SyntaxError",
     "evalue": "invalid syntax (3642132633.py, line 3)",
     "output_type": "error",
     "traceback": [
      "\u001b[1;36m  Cell \u001b[1;32mIn[4], line 3\u001b[1;36m\u001b[0m\n\u001b[1;33m    new Emp()\u001b[0m\n\u001b[1;37m        ^\u001b[0m\n\u001b[1;31mSyntaxError\u001b[0m\u001b[1;31m:\u001b[0m invalid syntax\n"
     ]
    }
   ],
   "source": [
    "class Emp:\n",
    "    pass\n",
    "new Emp()"
   ]
  },
  {
   "cell_type": "code",
   "execution_count": 6,
   "id": "aeaf347f-35ba-4093-b0a9-eb71c1e2ac10",
   "metadata": {},
   "outputs": [
    {
     "name": "stdout",
     "output_type": "stream",
     "text": [
      "<__main__.Emp object at 0x00000191AE3F7EF0>\n",
      "<__main__.Emp object at 0x00000191AE3F7500>\n",
      "<__main__.Emp object at 0x00000191AE3F7800>\n"
     ]
    }
   ],
   "source": [
    "class Emp:\n",
    "    pass\n",
    "\n",
    "e1=Emp()\n",
    "e2=Emp()\n",
    "e3=Emp()\n",
    "\n",
    "print(e1)\n",
    "print(e2)\n",
    "print(e3)"
   ]
  },
  {
   "cell_type": "code",
   "execution_count": 7,
   "id": "88089ba0-c88d-4a19-af44-0262ffdb58b5",
   "metadata": {},
   "outputs": [
    {
     "name": "stdout",
     "output_type": "stream",
     "text": [
      "1725179019824\n",
      "1725203671776\n",
      "1725205280000\n"
     ]
    }
   ],
   "source": [
    "class Emp:\n",
    "    pass\n",
    "\n",
    "e1=Emp()\n",
    "e2=Emp()\n",
    "e3=Emp()\n",
    "\n",
    "print(id(e1))\n",
    "print(id(e2))\n",
    "print(id(e3))"
   ]
  },
  {
   "cell_type": "code",
   "execution_count": 8,
   "id": "e24d2d53-fc12-4da2-89b3-72d078d055de",
   "metadata": {},
   "outputs": [
    {
     "name": "stdout",
     "output_type": "stream",
     "text": [
      "10\n",
      "Rahul\n",
      "<__main__.Emp object at 0x00000191AD080860>\n"
     ]
    }
   ],
   "source": [
    "a=10\n",
    "ename=\"Rahul\"\n",
    "\n",
    "class Emp:\n",
    "    pass\n",
    "\n",
    "e1=Emp()\n",
    "\n",
    "print(a)\n",
    "print(ename)\n",
    "print(e1)"
   ]
  },
  {
   "cell_type": "code",
   "execution_count": 9,
   "id": "4cd8016d-2d55-458e-96e3-39356ce62d5c",
   "metadata": {},
   "outputs": [
    {
     "name": "stdout",
     "output_type": "stream",
     "text": [
      "<class 'int'>\n",
      "<class 'str'>\n",
      "<class '__main__.Emp'>\n"
     ]
    }
   ],
   "source": [
    "a=10\n",
    "ename=\"Rahul\"\n",
    "\n",
    "class Emp:\n",
    "    pass\n",
    "\n",
    "e1=Emp()\n",
    "\n",
    "print(type(a))\n",
    "print(type(ename))\n",
    "print(type(e1))"
   ]
  },
  {
   "cell_type": "code",
   "execution_count": 10,
   "id": "12acfab0-e4e6-4ab4-bd36-f69b06c3815c",
   "metadata": {},
   "outputs": [
    {
     "name": "stdout",
     "output_type": "stream",
     "text": [
      "<__main__.Account object at 0x00000191AE3AF3B0>\n",
      "1725204984752\n",
      "<class '__main__.Account'>\n"
     ]
    }
   ],
   "source": [
    "class Account:\n",
    "    pass\n",
    "\n",
    "a1=Account()\n",
    "a2=Account()\n",
    "\n",
    "print(a1)\n",
    "print(id(a1))\n",
    "print(type(a1))"
   ]
  },
  {
   "cell_type": "code",
   "execution_count": 11,
   "id": "d05783a3-dd14-4d1a-b5ff-d609b5234172",
   "metadata": {},
   "outputs": [],
   "source": [
    "class Account:\n",
    "    pass\n",
    "#class contain members- variables and methods"
   ]
  },
  {
   "cell_type": "code",
   "execution_count": 12,
   "id": "21816e66-5078-441b-8eed-048ecf684aae",
   "metadata": {},
   "outputs": [
    {
     "name": "stdout",
     "output_type": "stream",
     "text": [
      "<__main__.Account object at 0x00000191AE3F7C80>\n",
      "1725205281920\n",
      "<class '__main__.Account'>\n",
      "{}\n"
     ]
    }
   ],
   "source": [
    "class Account:\n",
    "    min_bal=500\n",
    "\n",
    "a1=Account()\n",
    "print(a1)\n",
    "print(id(a1))\n",
    "print(type(a1))\n",
    "print(a1.__dict__)"
   ]
  },
  {
   "cell_type": "code",
   "execution_count": 13,
   "id": "21ac0701-2281-415c-a008-d36a52e2e9ed",
   "metadata": {},
   "outputs": [
    {
     "name": "stdout",
     "output_type": "stream",
     "text": [
      "<__main__.Account object at 0x00000191AE3F7B60>\n",
      "1725205281632\n",
      "<class '__main__.Account'>\n",
      "{}\n",
      "{'__module__': '__main__', 'min_bal': 500, '__dict__': <attribute '__dict__' of 'Account' objects>, '__weakref__': <attribute '__weakref__' of 'Account' objects>, '__doc__': None}\n"
     ]
    }
   ],
   "source": [
    "class Account:\n",
    "    min_bal=500\n",
    "\n",
    "a1=Account()\n",
    "print(a1)\n",
    "print(id(a1))\n",
    "print(type(a1))\n",
    "print(a1.__dict__)\n",
    "print(Account.__dict__)"
   ]
  },
  {
   "cell_type": "code",
   "execution_count": 14,
   "id": "53aade50-67fb-41ec-90e8-1d234ccb2a07",
   "metadata": {},
   "outputs": [
    {
     "name": "stdout",
     "output_type": "stream",
     "text": [
      "{'__module__': '__main__', 'eid': 101, 'ename': 'Rahul', 'esal': 45000, '__dict__': <attribute '__dict__' of 'Employee' objects>, '__weakref__': <attribute '__weakref__' of 'Employee' objects>, '__doc__': None}\n"
     ]
    }
   ],
   "source": [
    "class Employee:\n",
    "    eid=101\n",
    "    ename=\"Rahul\"\n",
    "    esal=45000\n",
    "\n",
    "\n",
    "e1=Employee()\n",
    "print(Employee.__dict__)"
   ]
  },
  {
   "cell_type": "code",
   "execution_count": null,
   "id": "5b30334f-df7b-46b0-ab4e-cf75ff5a489b",
   "metadata": {},
   "outputs": [],
   "source": []
  }
 ],
 "metadata": {
  "kernelspec": {
   "display_name": "Python 3 (ipykernel)",
   "language": "python",
   "name": "python3"
  },
  "language_info": {
   "codemirror_mode": {
    "name": "ipython",
    "version": 3
   },
   "file_extension": ".py",
   "mimetype": "text/x-python",
   "name": "python",
   "nbconvert_exporter": "python",
   "pygments_lexer": "ipython3",
   "version": "3.12.3"
  }
 },
 "nbformat": 4,
 "nbformat_minor": 5
}
