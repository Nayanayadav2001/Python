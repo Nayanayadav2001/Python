{
 "cells": [
  {
   "cell_type": "code",
   "execution_count": 1,
   "id": "6630bdc6-39b0-474a-9c44-3cf892731c08",
   "metadata": {},
   "outputs": [
    {
     "data": {
      "text/plain": [
       "'\\nTUPLE= read only copy of list object.\\ngroup of elements as one entity.\\nduplicates and heterogenous elements are allowed.\\ninsertion order preserved - indexing concept applicable.\\nimmutable object.\\n'"
      ]
     },
     "execution_count": 1,
     "metadata": {},
     "output_type": "execute_result"
    }
   ],
   "source": [
    "'''\n",
    "TUPLE= read only copy of list object.\n",
    "group of elements as one entity.\n",
    "duplicates and heterogenous elements are allowed.\n",
    "insertion order preserved - indexing concept applicable.\n",
    "immutable object.\n",
    "'''"
   ]
  },
  {
   "cell_type": "code",
   "execution_count": 5,
   "id": "92b86a78-2539-4d48-b12c-fa0a84960e99",
   "metadata": {},
   "outputs": [
    {
     "name": "stdout",
     "output_type": "stream",
     "text": [
      "()\n",
      "(10, 20)\n",
      "(10, 20, False, 'nayana')\n",
      "(0, 1, 2, 3, 4, 5, 6, 7, 8, 9)\n"
     ]
    }
   ],
   "source": [
    "#how to create tuple object?\n",
    "t1=()\n",
    "t2=(10,20)\n",
    "t3=(10,20,False,\"nayana\")\n",
    "t4=tuple(range(10))\n",
    "\n",
    "print(t1)\n",
    "print(t2)\n",
    "print(t3)\n",
    "print(t4)"
   ]
  },
  {
   "cell_type": "code",
   "execution_count": 6,
   "id": "e29cf8ba-b13c-4fcb-8dbc-565c616bcba1",
   "metadata": {},
   "outputs": [
    {
     "name": "stdout",
     "output_type": "stream",
     "text": [
      "1\n",
      "5\n"
     ]
    }
   ],
   "source": [
    "#how to read? -using indexing\n",
    "t1=(1,2,3,4,5,6)\n",
    "print(t1[0])\n",
    "print(t1[4])"
   ]
  },
  {
   "cell_type": "code",
   "execution_count": 7,
   "id": "ac64b627-b9fd-4108-80c7-5d9fd92ffa8d",
   "metadata": {},
   "outputs": [
    {
     "name": "stdout",
     "output_type": "stream",
     "text": [
      "a\n",
      "b\n",
      "c\n",
      "d\n"
     ]
    }
   ],
   "source": [
    "#how to iterate tuple object? -using for and while\n",
    "t=('a','b','c','d')\n",
    "for ele in t:\n",
    "    print(ele)"
   ]
  },
  {
   "cell_type": "code",
   "execution_count": 9,
   "id": "9111976d-2d4b-4cbb-8237-8e620127d81d",
   "metadata": {},
   "outputs": [
    {
     "name": "stdout",
     "output_type": "stream",
     "text": [
      "a\n",
      "b\n",
      "c\n",
      "d\n"
     ]
    }
   ],
   "source": [
    "i=0\n",
    "while i<=len(t)-1:\n",
    "    print(t[i])\n",
    "    i=i+1"
   ]
  },
  {
   "cell_type": "code",
   "execution_count": 10,
   "id": "bce933f9-262c-474e-b38c-bad3bf952a50",
   "metadata": {},
   "outputs": [
    {
     "name": "stdout",
     "output_type": "stream",
     "text": [
      "1\n",
      "1\n"
     ]
    }
   ],
   "source": [
    "#how to read?\n",
    "enames=[\"sagar\",\"vivek\",\"varshu\",\"appu\",\"chandhu\"]\n",
    "print(enames.count(\"sagar\"))\n",
    "print(enames.index(\"vivek\"))"
   ]
  },
  {
   "cell_type": "code",
   "execution_count": null,
   "id": "19f0b23b-6912-4adc-a1b9-af8a79b10ffc",
   "metadata": {},
   "outputs": [],
   "source": []
  }
 ],
 "metadata": {
  "kernelspec": {
   "display_name": "Python 3 (ipykernel)",
   "language": "python",
   "name": "python3"
  },
  "language_info": {
   "codemirror_mode": {
    "name": "ipython",
    "version": 3
   },
   "file_extension": ".py",
   "mimetype": "text/x-python",
   "name": "python",
   "nbconvert_exporter": "python",
   "pygments_lexer": "ipython3",
   "version": "3.12.3"
  }
 },
 "nbformat": 4,
 "nbformat_minor": 5
}
