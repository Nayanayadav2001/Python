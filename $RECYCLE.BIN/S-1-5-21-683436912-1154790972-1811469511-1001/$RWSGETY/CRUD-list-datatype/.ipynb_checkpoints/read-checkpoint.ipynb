{
 "cells": [
  {
   "cell_type": "code",
   "execution_count": 4,
   "id": "fe615c0f-0439-4d52-b6e5-de4b01481fec",
   "metadata": {},
   "outputs": [
    {
     "name": "stdout",
     "output_type": "stream",
     "text": [
      "Nayana\n",
      "Shru\n",
      "Siri\n",
      "Nayana\n"
     ]
    }
   ],
   "source": [
    "#how to read list object?\n",
    "#using indexing,both +ve and -ve\n",
    "enames=[\"Nayana\",\"Siri\",\"Shru\"]\n",
    "print(enames[0])\n",
    "print(enames[-1])\n",
    "print(enames[-2])\n",
    "print(enames[-3])"
   ]
  },
  {
   "cell_type": "code",
   "execution_count": 2,
   "id": "dbb5e619-b946-49d3-816e-bb651d6a7772",
   "metadata": {},
   "outputs": [
    {
     "name": "stdout",
     "output_type": "stream",
     "text": [
      "nayana\n",
      "siri\n",
      "shru\n"
     ]
    }
   ],
   "source": [
    "#how to iterate list object?\n",
    "enames=[\"nayana\",\"siri\",\"shru\"]\n",
    "for ename in enames:\n",
    "    print(ename)"
   ]
  },
  {
   "cell_type": "code",
   "execution_count": 3,
   "id": "2540f51f-9c98-4ec7-a185-eadcdcb69677",
   "metadata": {},
   "outputs": [
    {
     "name": "stdout",
     "output_type": "stream",
     "text": [
      "nayana\n",
      "siri\n",
      "shru\n"
     ]
    }
   ],
   "source": [
    "i=0\n",
    "while i<=len(enames)-1:\n",
    "    print(enames[i])\n",
    "    i=i+1"
   ]
  },
  {
   "cell_type": "code",
   "execution_count": 1,
   "id": "fe2cc4e0-d96b-4266-920c-b7adcc4e6a66",
   "metadata": {},
   "outputs": [],
   "source": [
    "#count()=returns number of occurances of the specified element.\n",
    "#index()=returns the index of 1st occurance of specified element."
   ]
  },
  {
   "cell_type": "code",
   "execution_count": 3,
   "id": "4167589b-f0e2-4eaa-826c-ac1ddc4ba8bd",
   "metadata": {},
   "outputs": [
    {
     "data": {
      "text/plain": [
       "2"
      ]
     },
     "execution_count": 3,
     "metadata": {},
     "output_type": "execute_result"
    }
   ],
   "source": [
    "ids=[101,102,103,104,102,103]\n",
    "ids.count(102)"
   ]
  },
  {
   "cell_type": "code",
   "execution_count": 4,
   "id": "9fc15fd2-922f-4df2-8494-4ff5c95923b2",
   "metadata": {},
   "outputs": [
    {
     "data": {
      "text/plain": [
       "2"
      ]
     },
     "execution_count": 4,
     "metadata": {},
     "output_type": "execute_result"
    }
   ],
   "source": [
    "ids.index(103)"
   ]
  },
  {
   "cell_type": "code",
   "execution_count": 5,
   "id": "63f1238e-d937-4bf3-8cd9-3f56b53b521c",
   "metadata": {},
   "outputs": [
    {
     "data": {
      "text/plain": [
       "1"
      ]
     },
     "execution_count": 5,
     "metadata": {},
     "output_type": "execute_result"
    }
   ],
   "source": [
    "ids.count(101)"
   ]
  },
  {
   "cell_type": "code",
   "execution_count": 6,
   "id": "68b638b8-86c8-4b63-a4d8-46fec44b37ba",
   "metadata": {},
   "outputs": [],
   "source": [
    "#what is clonning? -aliasing.\n",
    "#how to clone list object? -using copy() and slice operator[:]"
   ]
  },
  {
   "cell_type": "code",
   "execution_count": 7,
   "id": "95770de4-d00a-4c7a-bf0f-af0ead9fa93a",
   "metadata": {},
   "outputs": [
    {
     "name": "stdout",
     "output_type": "stream",
     "text": [
      "[10, 20, 30, 40]\n"
     ]
    }
   ],
   "source": [
    "l1=[10,20,30,40]\n",
    "l2=l1.copy()\n",
    "print(l2)"
   ]
  },
  {
   "cell_type": "code",
   "execution_count": 9,
   "id": "a37cb506-ea1e-4a80-a835-2c605b78ca89",
   "metadata": {},
   "outputs": [
    {
     "name": "stdout",
     "output_type": "stream",
     "text": [
      "[10, 20, 30, 40]\n"
     ]
    }
   ],
   "source": [
    "l3=l1[:]\n",
    "print(l3)"
   ]
  },
  {
   "cell_type": "code",
   "execution_count": 11,
   "id": "13e0ffa9-41b4-4848-88ac-daaf0c810d8a",
   "metadata": {},
   "outputs": [
    {
     "name": "stdout",
     "output_type": "stream",
     "text": [
      "[0, 2, 3, 4]\n",
      "[0, 2, 3, 4]\n"
     ]
    }
   ],
   "source": [
    "#list aliasing\n",
    "l1=[1,2,3,4]\n",
    "l2=l1\n",
    "l1[0]=0\n",
    "print(l1)\n",
    "print(l2)"
   ]
  },
  {
   "cell_type": "code",
   "execution_count": 12,
   "id": "82b7ce6d-e081-473a-adba-fa02e51b16d9",
   "metadata": {},
   "outputs": [
    {
     "name": "stdout",
     "output_type": "stream",
     "text": [
      "['sagar', 'vivek']\n"
     ]
    }
   ],
   "source": [
    "#slice operator\n",
    "enames=[\"sagar\",\"vivek\",\"varshu\",\"chandhu\",\"appu\"]\n",
    "new_enames=enames[0:2]\n",
    "print(new_enames)"
   ]
  },
  {
   "cell_type": "code",
   "execution_count": 14,
   "id": "913660bf-3d33-4f4d-af51-d2604574c0fe",
   "metadata": {},
   "outputs": [
    {
     "name": "stdout",
     "output_type": "stream",
     "text": [
      "[1, 2, 3, 4, 5, 6, 7, 8]\n"
     ]
    }
   ],
   "source": [
    "# + operator\n",
    "l1=[1,2,3,4]\n",
    "l2=[5,6,7,8]\n",
    "print(l1+l2)\n",
    "#concatination"
   ]
  },
  {
   "cell_type": "code",
   "execution_count": 15,
   "id": "187453f0-98ff-4a17-ac37-f989e9d10939",
   "metadata": {},
   "outputs": [
    {
     "name": "stdout",
     "output_type": "stream",
     "text": [
      "[1, 2, 3, 4, 1, 2, 3, 4, 1, 2, 3, 4]\n"
     ]
    }
   ],
   "source": [
    "print(l1*3)\n",
    "#repetition"
   ]
  },
  {
   "cell_type": "code",
   "execution_count": null,
   "id": "af33f93d-f75a-44cb-bc87-4054f75b6c42",
   "metadata": {},
   "outputs": [],
   "source": []
  }
 ],
 "metadata": {
  "kernelspec": {
   "display_name": "Python 3 (ipykernel)",
   "language": "python",
   "name": "python3"
  },
  "language_info": {
   "codemirror_mode": {
    "name": "ipython",
    "version": 3
   },
   "file_extension": ".py",
   "mimetype": "text/x-python",
   "name": "python",
   "nbconvert_exporter": "python",
   "pygments_lexer": "ipython3",
   "version": "3.12.3"
  }
 },
 "nbformat": 4,
 "nbformat_minor": 5
}
