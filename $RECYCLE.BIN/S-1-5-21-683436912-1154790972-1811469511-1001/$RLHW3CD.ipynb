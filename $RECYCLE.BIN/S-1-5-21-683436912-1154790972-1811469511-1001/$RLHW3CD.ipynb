{
 "cells": [
  {
   "cell_type": "code",
   "execution_count": null,
   "id": "616fbbe0-49c4-4ad2-b0e1-b1dd0221e5ee",
   "metadata": {},
   "outputs": [],
   "source": []
  }
 ],
 "metadata": {
  "kernelspec": {
   "display_name": "",
   "name": ""
  },
  "language_info": {
   "name": ""
  }
 },
 "nbformat": 4,
 "nbformat_minor": 5
}
