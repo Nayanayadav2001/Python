{
 "cells": [
  {
   "cell_type": "code",
   "execution_count": null,
   "id": "2a7194a5-b630-44c5-a224-893cb7963fef",
   "metadata": {},
   "outputs": [],
   "source": []
  }
 ],
 "metadata": {
  "kernelspec": {
   "display_name": "",
   "name": ""
  },
  "language_info": {
   "name": ""
  }
 },
 "nbformat": 4,
 "nbformat_minor": 5
}
