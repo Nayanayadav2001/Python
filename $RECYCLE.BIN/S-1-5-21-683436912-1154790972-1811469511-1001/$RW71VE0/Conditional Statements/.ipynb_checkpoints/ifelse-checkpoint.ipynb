{
 "cells": [
  {
   "cell_type": "code",
   "execution_count": 2,
   "id": "7fd60117-b6bb-4d53-9890-d9e282c93e5e",
   "metadata": {},
   "outputs": [
    {
     "name": "stdin",
     "output_type": "stream",
     "text": [
      "Enter Emp Sal: 979\n"
     ]
    },
    {
     "name": "stdout",
     "output_type": "stream",
     "text": [
      "Not Eligible\n"
     ]
    }
   ],
   "source": [
    "sal=int(input(\"Enter Emp Sal:\"))\n",
    "if sal>4000:\n",
    "    print(\"Eligible for Mrg\")\n",
    "\n",
    "else:\n",
    "    print(\"Not Eligible\")"
   ]
  },
  {
   "cell_type": "code",
   "execution_count": 3,
   "id": "e5f03380-430c-40dd-942d-a82a9098e7c6",
   "metadata": {},
   "outputs": [
    {
     "name": "stdin",
     "output_type": "stream",
     "text": [
      "Enter Number: 10\n"
     ]
    },
    {
     "name": "stdout",
     "output_type": "stream",
     "text": [
      "Even\n"
     ]
    }
   ],
   "source": [
    "#test a number is positive or not?\n",
    "num=int(input(\"Enter Number:\"))\n",
    "if num % 2 ==0:\n",
    "    print(\"Even\")\n",
    "\n",
    "else:\n",
    "    print(\"Odd\")"
   ]
  },
  {
   "cell_type": "code",
   "execution_count": 4,
   "id": "619daef9-7a0d-4edc-a6cb-4eaa42cb9906",
   "metadata": {},
   "outputs": [
    {
     "name": "stdin",
     "output_type": "stream",
     "text": [
      "Enter Number: 7\n"
     ]
    },
    {
     "name": "stdout",
     "output_type": "stream",
     "text": [
      "Odd\n"
     ]
    }
   ],
   "source": [
    "num=int(input(\"Enter Number:\"))\n",
    "if num % 2 ==0:\n",
    "    print(\"Even\")\n",
    "\n",
    "else:\n",
    "    print(\"Odd\")"
   ]
  },
  {
   "cell_type": "code",
   "execution_count": 5,
   "id": "101b88da-4fee-4989-a2ec-253187f780d7",
   "metadata": {},
   "outputs": [
    {
     "name": "stdin",
     "output_type": "stream",
     "text": [
      "Enter Number 345\n"
     ]
    },
    {
     "name": "stdout",
     "output_type": "stream",
     "text": [
      "3-digit number\n"
     ]
    }
   ],
   "source": [
    "#to check 3-digit number or not?\n",
    "num=int(input(\"Enter Number\"))\n",
    "if num>100 and num<999:\n",
    "    print(\"3-digit number\")\n",
    "\n",
    "else:\n",
    "    print(\"not a 3-digit number\")\n",
    "    "
   ]
  },
  {
   "cell_type": "code",
   "execution_count": 6,
   "id": "f085b1a9-13c8-445b-9837-95b793f2e7f0",
   "metadata": {},
   "outputs": [
    {
     "name": "stdin",
     "output_type": "stream",
     "text": [
      "Enter Number 85424\n"
     ]
    },
    {
     "name": "stdout",
     "output_type": "stream",
     "text": [
      "not a 3-digit number\n"
     ]
    }
   ],
   "source": [
    "num=int(input(\"Enter Number\"))\n",
    "if num>100 and num<999:\n",
    "    print(\"3-digit number\")\n",
    "\n",
    "else:\n",
    "    print(\"not a 3-digit number\")"
   ]
  },
  {
   "cell_type": "code",
   "execution_count": 7,
   "id": "cd55d3ee-1546-49e5-90dd-be2bcb9a0428",
   "metadata": {},
   "outputs": [
    {
     "name": "stdout",
     "output_type": "stream",
     "text": [
      "11\n"
     ]
    }
   ],
   "source": [
    "a=10\n",
    "a=a+1\n",
    "print(a)"
   ]
  },
  {
   "cell_type": "code",
   "execution_count": null,
   "id": "c38aa119-2c8e-4ff4-9844-60441732fbcf",
   "metadata": {},
   "outputs": [],
   "source": []
  }
 ],
 "metadata": {
  "kernelspec": {
   "display_name": "Python 3 (ipykernel)",
   "language": "python",
   "name": "python3"
  },
  "language_info": {
   "codemirror_mode": {
    "name": "ipython",
    "version": 3
   },
   "file_extension": ".py",
   "mimetype": "text/x-python",
   "name": "python",
   "nbconvert_exporter": "python",
   "pygments_lexer": "ipython3",
   "version": "3.12.3"
  }
 },
 "nbformat": 4,
 "nbformat_minor": 5
}
