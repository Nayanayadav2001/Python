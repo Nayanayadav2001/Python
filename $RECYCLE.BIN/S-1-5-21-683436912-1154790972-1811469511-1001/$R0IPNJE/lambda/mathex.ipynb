{
 "cells": [
  {
   "cell_type": "code",
   "execution_count": null,
   "id": "ac6456fc-0713-425b-a1ba-e643e37275bb",
   "metadata": {},
   "outputs": [],
   "source": []
  }
 ],
 "metadata": {
  "kernelspec": {
   "display_name": "",
   "name": ""
  },
  "language_info": {
   "name": ""
  }
 },
 "nbformat": 4,
 "nbformat_minor": 5
}
