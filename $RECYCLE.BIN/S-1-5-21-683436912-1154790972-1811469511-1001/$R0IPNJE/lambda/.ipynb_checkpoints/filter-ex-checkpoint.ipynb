{
 "cells": [
  {
   "cell_type": "code",
   "execution_count": 1,
   "id": "a600ff56-f428-4c51-82e5-3ae1cab98e4e",
   "metadata": {},
   "outputs": [],
   "source": [
    "#filter()=If Boolean value is present we use filter function\n",
    "#To filter the values from given sequence"
   ]
  },
  {
   "cell_type": "code",
   "execution_count": 2,
   "id": "b66b45c3-053b-498c-b1b2-c75798cb79fd",
   "metadata": {},
   "outputs": [
    {
     "name": "stdout",
     "output_type": "stream",
     "text": [
      "[1, 2, 3, 4, 5, 6, 7, 8, 9, 10]\n",
      "[2, 4, 6, 8, 10]\n"
     ]
    }
   ],
   "source": [
    "numbers=[1,2,3,4,5,6,7,8,9,10]\n",
    "odd_numbers=[]\n",
    "\n",
    "for number in numbers:\n",
    "    if number % 2 ==0:\n",
    "        odd_numbers.append(number)\n",
    "\n",
    "print(numbers)\n",
    "print(odd_numbers)"
   ]
  },
  {
   "cell_type": "code",
   "execution_count": 4,
   "id": "aa798f1f-2879-4b04-8abb-75eab136a3ad",
   "metadata": {},
   "outputs": [
    {
     "name": "stdout",
     "output_type": "stream",
     "text": [
      "[1, 2, 3, 4, 5, 6, 7, 8, 9, 10]\n",
      "[2, 4, 6, 8, 10]\n"
     ]
    }
   ],
   "source": [
    "numbers=[1,2,3,4,5,6,7,8,9,10]\n",
    "def odd_number(number):\n",
    "    if number%2 == 0:\n",
    "        return True\n",
    "    else:\n",
    "        return False\n",
    "\n",
    "new_numbers=list(filter(odd_number,numbers))\n",
    "print(numbers)\n",
    "print(new_numbers)"
   ]
  },
  {
   "cell_type": "code",
   "execution_count": 5,
   "id": "6e4875d8-fabb-4397-827d-29ddb1894fe8",
   "metadata": {},
   "outputs": [
    {
     "name": "stdout",
     "output_type": "stream",
     "text": [
      "[1, 2, 3, 4, 5, 6, 7, 8, 9, 10]\n",
      "[2, 4, 6, 8, 10]\n"
     ]
    }
   ],
   "source": [
    "numbers=[1,2,3,4,5,6,7,8,9,10]\n",
    "\n",
    "new_odd=list(filter(lambda number:number%2==0,numbers))\n",
    "print(numbers)\n",
    "print(new_odd)"
   ]
  },
  {
   "cell_type": "code",
   "execution_count": 2,
   "id": "c2d98a55-f31c-4bfc-a5b1-affc7478d989",
   "metadata": {},
   "outputs": [
    {
     "name": "stdout",
     "output_type": "stream",
     "text": [
      "1\n",
      "2\n",
      "3\n",
      "4\n",
      "5\n"
     ]
    },
    {
     "data": {
      "text/plain": [
       "[]"
      ]
     },
     "execution_count": 2,
     "metadata": {},
     "output_type": "execute_result"
    }
   ],
   "source": [
    "list(filter(lambda x:print(x),[1,2,3,4,5]))"
   ]
  },
  {
   "cell_type": "code",
   "execution_count": 3,
   "id": "ccaa7d77-f083-4ecd-9edc-240bc196aa9e",
   "metadata": {},
   "outputs": [
    {
     "name": "stdout",
     "output_type": "stream",
     "text": [
      "1\n",
      "2\n",
      "3\n",
      "4\n",
      "5\n"
     ]
    },
    {
     "data": {
      "text/plain": [
       "[None, None, None, None, None]"
      ]
     },
     "execution_count": 3,
     "metadata": {},
     "output_type": "execute_result"
    }
   ],
   "source": [
    "list(map(lambda x:print(x),[1,2,3,4,5]))"
   ]
  },
  {
   "cell_type": "code",
   "execution_count": 4,
   "id": "8a12e6dd-fd85-4c65-bde8-9585fbaecfb5",
   "metadata": {},
   "outputs": [
    {
     "name": "stdout",
     "output_type": "stream",
     "text": [
      "[499, 399, 299, 199, 99]\n"
     ]
    }
   ],
   "source": [
    "product_prices=[999,499,399,299,199,99,1999,1199]\n",
    "filter_obj=filter(lambda price:price<500, product_prices)\n",
    "new_prices=list(filter_obj)\n",
    "print(new_prices)"
   ]
  },
  {
   "cell_type": "code",
   "execution_count": 6,
   "id": "b8165313-a58a-4501-8067-85242a2fe5e2",
   "metadata": {},
   "outputs": [
    {
     "name": "stdout",
     "output_type": "stream",
     "text": [
      "[999, 499, 399, 299, 199, 99, 1999, 1199]\n",
      "[1000, 500, 400, 300, 200, 100, 2000, 1200]\n"
     ]
    }
   ],
   "source": [
    "product_prices=[999,499,399,299,199,99,1999,1199]\n",
    "\n",
    "def add_one(price):\n",
    "    return price+1\n",
    "\n",
    "new_prices=list(map(add_one,product_prices))\n",
    "print(product_prices)\n",
    "print(new_prices)"
   ]
  },
  {
   "cell_type": "code",
   "execution_count": 7,
   "id": "e4bf5d70-d687-49ef-bdb3-fdf33c22ec07",
   "metadata": {},
   "outputs": [
    {
     "name": "stdout",
     "output_type": "stream",
     "text": [
      "[999, 499, 399, 299, 199, 99, 1999, 1199]\n",
      "[1000, 500, 400, 300, 200, 100, 2000, 1200]\n"
     ]
    }
   ],
   "source": [
    "product_prices=[999,499,399,299,199,99,1999,1199]\n",
    "\n",
    "map_object=map(lambda price:price+1,product_prices)\n",
    "new_prices=list(map_object)\n",
    "print(product_prices)\n",
    "print(new_prices)"
   ]
  },
  {
   "cell_type": "code",
   "execution_count": 8,
   "id": "2215015f-47d1-4125-955d-7d133b24f82a",
   "metadata": {},
   "outputs": [
    {
     "name": "stdout",
     "output_type": "stream",
     "text": [
      "[1000, 500, 400, 300, 200, 100, 2000, 1200]\n"
     ]
    }
   ],
   "source": [
    "print(list(map(lambda price:price+1,product_prices)))"
   ]
  },
  {
   "cell_type": "code",
   "execution_count": null,
   "id": "dd4b9303-999c-463c-badc-51024f72466e",
   "metadata": {},
   "outputs": [],
   "source": []
  }
 ],
 "metadata": {
  "kernelspec": {
   "display_name": "Python 3 (ipykernel)",
   "language": "python",
   "name": "python3"
  },
  "language_info": {
   "codemirror_mode": {
    "name": "ipython",
    "version": 3
   },
   "file_extension": ".py",
   "mimetype": "text/x-python",
   "name": "python",
   "nbconvert_exporter": "python",
   "pygments_lexer": "ipython3",
   "version": "3.12.3"
  }
 },
 "nbformat": 4,
 "nbformat_minor": 5
}
