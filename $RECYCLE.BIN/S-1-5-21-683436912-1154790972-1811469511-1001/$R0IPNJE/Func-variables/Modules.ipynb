{
 "cells": [
  {
   "cell_type": "code",
   "execution_count": 1,
   "id": "e8e89c55-dce4-40f2-8c3c-ceb3dc857baf",
   "metadata": {},
   "outputs": [
    {
     "data": {
      "text/plain": [
       "'Every python file acting as a module.\\nModule contains variables,functions and classes.\\nModule contain members'"
      ]
     },
     "execution_count": 1,
     "metadata": {},
     "output_type": "execute_result"
    }
   ],
   "source": [
    "'''Every python file acting as a module.\n",
    "Module contains variables,functions and classes.\n",
    "Module contain members'''"
   ]
  },
  {
   "cell_type": "code",
   "execution_count": null,
   "id": "342683a3-92c7-4a78-8670-1d203615fd01",
   "metadata": {},
   "outputs": [],
   "source": []
  }
 ],
 "metadata": {
  "kernelspec": {
   "display_name": "Python 3 (ipykernel)",
   "language": "python",
   "name": "python3"
  },
  "language_info": {
   "codemirror_mode": {
    "name": "ipython",
    "version": 3
   },
   "file_extension": ".py",
   "mimetype": "text/x-python",
   "name": "python",
   "nbconvert_exporter": "python",
   "pygments_lexer": "ipython3",
   "version": "3.12.3"
  }
 },
 "nbformat": 4,
 "nbformat_minor": 5
}
