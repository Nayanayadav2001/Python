{
 "cells": [
  {
   "cell_type": "code",
   "execution_count": null,
   "id": "ebcab468-df1c-4c17-86c8-172d45bdf3a0",
   "metadata": {},
   "outputs": [],
   "source": []
  }
 ],
 "metadata": {
  "kernelspec": {
   "display_name": "",
   "name": ""
  },
  "language_info": {
   "name": ""
  }
 },
 "nbformat": 4,
 "nbformat_minor": 5
}
