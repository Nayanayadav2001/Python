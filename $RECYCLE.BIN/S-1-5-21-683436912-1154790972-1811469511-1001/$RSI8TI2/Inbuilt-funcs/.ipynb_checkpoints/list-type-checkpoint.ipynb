{
 "cells": [
  {
   "cell_type": "code",
   "execution_count": 2,
   "id": "6fc8bcd0-38d9-4faf-ab4a-7ca021a7bf6f",
   "metadata": {},
   "outputs": [
    {
     "name": "stdout",
     "output_type": "stream",
     "text": [
      "[101, 102, 103]\n"
     ]
    }
   ],
   "source": [
    "#list-type=group of elements as one entity\n",
    "#create\n",
    "ids=[]\n",
    "ids=[101,102,103]\n",
    "print(ids)"
   ]
  },
  {
   "cell_type": "code",
   "execution_count": 3,
   "id": "a2b75985-fcf3-4222-a625-1af9fbf6252d",
   "metadata": {},
   "outputs": [
    {
     "name": "stdout",
     "output_type": "stream",
     "text": [
      "[101, 102, 102, 104, 104]\n"
     ]
    }
   ],
   "source": [
    "#duplicates are allowed\n",
    "ids=[101,102,102,104,104]\n",
    "#read\n",
    "print(ids)"
   ]
  },
  {
   "cell_type": "code",
   "execution_count": 4,
   "id": "04dfca5b-dc7b-418f-9cf6-1fd6e3344357",
   "metadata": {},
   "outputs": [
    {
     "name": "stdout",
     "output_type": "stream",
     "text": [
      "[10, 'rahul', True, 12.5]\n"
     ]
    }
   ],
   "source": [
    "#heterogenous are allowed\n",
    "a=[10,\"rahul\",True,12.5]\n",
    "print(a)"
   ]
  },
  {
   "cell_type": "code",
   "execution_count": 5,
   "id": "dc3f6a61-7ce6-427b-83d9-697b2091f626",
   "metadata": {},
   "outputs": [
    {
     "name": "stdout",
     "output_type": "stream",
     "text": [
      "67\n"
     ]
    }
   ],
   "source": [
    "#list elements are stored based on indexing\n",
    "ids=[67,68,69,70]\n",
    "print(ids[0])"
   ]
  },
  {
   "cell_type": "code",
   "execution_count": 6,
   "id": "df0bf921-23a7-48d3-9ce3-0aa91eaf50de",
   "metadata": {},
   "outputs": [
    {
     "name": "stdout",
     "output_type": "stream",
     "text": [
      "[123, 124, 20, 126]\n"
     ]
    }
   ],
   "source": [
    "#insertion order is preserved\n",
    "a=[123,124,125,126]\n",
    "a[2]=20\n",
    "print(a)"
   ]
  },
  {
   "cell_type": "code",
   "execution_count": 7,
   "id": "79ca711a-995a-425c-8d7a-a0ff65af30c4",
   "metadata": {},
   "outputs": [
    {
     "ename": "SyntaxError",
     "evalue": "invalid syntax (523010276.py, line 5)",
     "output_type": "error",
     "traceback": [
      "\u001b[1;36m  Cell \u001b[1;32mIn[7], line 5\u001b[1;36m\u001b[0m\n\u001b[1;33m    name=10 \"rahul\"\u001b[0m\n\u001b[1;37m            ^\u001b[0m\n\u001b[1;31mSyntaxError\u001b[0m\u001b[1;31m:\u001b[0m invalid syntax\n"
     ]
    }
   ],
   "source": [
    "#negative indexing is possible\n",
    "#list object is mutable\n",
    "eid=[10]\n",
    "ename=\"rahul\"\n",
    "name=10 \"rahul\"\n",
    "print(type(eid))\n",
    "print(type(ename))\n",
    "print(type(name))"
   ]
  },
  {
   "cell_type": "code",
   "execution_count": 8,
   "id": "654f9026-97b9-4ac5-8f7a-af94dd709446",
   "metadata": {},
   "outputs": [
    {
     "name": "stdout",
     "output_type": "stream",
     "text": [
      "<class 'list'>\n",
      "<class 'str'>\n"
     ]
    }
   ],
   "source": [
    "eid=[10]\n",
    "ename=\"rahul\"\n",
    "#name=10 \"rahul\"\n",
    "print(type(eid))\n",
    "print(type(ename))\n",
    "#print(type(name))"
   ]
  },
  {
   "cell_type": "code",
   "execution_count": 9,
   "id": "432b2dfc-0557-43a4-a05b-96db670b841e",
   "metadata": {},
   "outputs": [
    {
     "name": "stdout",
     "output_type": "stream",
     "text": [
      "10\n",
      "20\n",
      "30\n"
     ]
    }
   ],
   "source": [
    "a,b,c=10,20,30\n",
    "print(a)\n",
    "print(b)\n",
    "print(c)"
   ]
  },
  {
   "cell_type": "code",
   "execution_count": null,
   "id": "a5bfbd5e-dcf9-42c2-a712-8e4c8e9d99d2",
   "metadata": {},
   "outputs": [],
   "source": []
  }
 ],
 "metadata": {
  "kernelspec": {
   "display_name": "Python 3 (ipykernel)",
   "language": "python",
   "name": "python3"
  },
  "language_info": {
   "codemirror_mode": {
    "name": "ipython",
    "version": 3
   },
   "file_extension": ".py",
   "mimetype": "text/x-python",
   "name": "python",
   "nbconvert_exporter": "python",
   "pygments_lexer": "ipython3",
   "version": "3.12.2"
  }
 },
 "nbformat": 4,
 "nbformat_minor": 5
}
