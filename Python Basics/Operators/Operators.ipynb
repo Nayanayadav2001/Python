{
 "cells": [
  {
   "cell_type": "code",
   "execution_count": 7,
   "id": "ce9fa3e1-67fb-482b-afb3-70f4b6348dcc",
   "metadata": {},
   "outputs": [
    {
     "name": "stdout",
     "output_type": "stream",
     "text": [
      "70\n",
      "RahulGandhi\n"
     ]
    }
   ],
   "source": [
    "#addition and concatination(+)\n",
    "a=30\n",
    "b=40\n",
    "c='Rahul'\n",
    "d='Gandhi'\n",
    "print(a+b)\n",
    "print(c+d)"
   ]
  },
  {
   "cell_type": "code",
   "execution_count": 10,
   "id": "07b8fc4a-1b1d-4679-af5b-130fabd86636",
   "metadata": {},
   "outputs": [
    {
     "name": "stdout",
     "output_type": "stream",
     "text": [
      "10\n",
      "50.0\n",
      "rahulrahul\n"
     ]
    }
   ],
   "source": [
    "#multiply and repetation(*)\n",
    "a=5\n",
    "b=2\n",
    "c=10.0\n",
    "d='rahul'\n",
    "print(a*b)\n",
    "print(a*c)\n",
    "print(b*d)"
   ]
  },
  {
   "cell_type": "code",
   "execution_count": 12,
   "id": "37b5281e-5076-4fe5-8104-84ae72864f91",
   "metadata": {},
   "outputs": [
    {
     "name": "stdout",
     "output_type": "stream",
     "text": [
      "tententen\n"
     ]
    }
   ],
   "source": [
    "a='ten'\n",
    "b=3\n",
    "print(a*b)\n"
   ]
  },
  {
   "cell_type": "code",
   "execution_count": 14,
   "id": "587c7156-806b-4655-9ad5-a0e9848203ad",
   "metadata": {},
   "outputs": [
    {
     "name": "stdout",
     "output_type": "stream",
     "text": [
      "5.0\n"
     ]
    }
   ],
   "source": [
    "#division(/)\n",
    "#always return floating point arithmatic\n",
    "a=20.0\n",
    "b=4\n",
    "print(a/b)"
   ]
  },
  {
   "cell_type": "code",
   "execution_count": 15,
   "id": "23e1a6e0-6ee7-4e7b-903f-a19a438f3cba",
   "metadata": {},
   "outputs": [
    {
     "name": "stdout",
     "output_type": "stream",
     "text": [
      "5.0\n"
     ]
    }
   ],
   "source": [
    "#floordivision(//)\n",
    "#always return integer arithmatic and floating point arithmatic\n",
    "a=20.0\n",
    "b=4\n",
    "print(a//b)"
   ]
  },
  {
   "cell_type": "code",
   "execution_count": 16,
   "id": "941e3f82-5828-477a-b4b9-d65c3d417946",
   "metadata": {},
   "outputs": [
    {
     "name": "stdout",
     "output_type": "stream",
     "text": [
      "9\n"
     ]
    }
   ],
   "source": [
    "a=45\n",
    "b=5\n",
    "print(a//b)"
   ]
  },
  {
   "cell_type": "code",
   "execution_count": null,
   "id": "022fcfbd-1632-4588-a1da-51085a802e8d",
   "metadata": {},
   "outputs": [],
   "source": []
  }
 ],
 "metadata": {
  "kernelspec": {
   "display_name": "Python 3 (ipykernel)",
   "language": "python",
   "name": "python3"
  },
  "language_info": {
   "codemirror_mode": {
    "name": "ipython",
    "version": 3
   },
   "file_extension": ".py",
   "mimetype": "text/x-python",
   "name": "python",
   "nbconvert_exporter": "python",
   "pygments_lexer": "ipython3",
   "version": "3.12.3"
  }
 },
 "nbformat": 4,
 "nbformat_minor": 5
}
