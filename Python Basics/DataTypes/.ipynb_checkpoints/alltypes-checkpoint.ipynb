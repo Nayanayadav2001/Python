{
 "cells": [
  {
   "cell_type": "code",
   "execution_count": 1,
   "id": "a00dc83b-6c3e-46cc-a96d-420e2e70ed3a",
   "metadata": {},
   "outputs": [
    {
     "name": "stdout",
     "output_type": "stream",
     "text": [
      "[]\n",
      "[2, 30.5, 'rahul', True]\n"
     ]
    }
   ],
   "source": [
    "#what is list datatype?\n",
    "a=[] #empty list\n",
    "b=[2,30.5,'rahul',True]\n",
    "print(a)\n",
    "print(b)"
   ]
  },
  {
   "cell_type": "code",
   "execution_count": 6,
   "id": "5c8d7fe4-1dd7-4046-8a2d-df0a1dd163f7",
   "metadata": {},
   "outputs": [
    {
     "name": "stdout",
     "output_type": "stream",
     "text": [
      "rahul\n",
      "sonia\n",
      "priyanka\n",
      "modi\n"
     ]
    }
   ],
   "source": [
    "enames=['rahul','sonia','priyanka','modi']\n",
    "#index     0       1          2       3\n",
    "#read list elements using indexing\n",
    "print(enames[0])\n",
    "print(enames[1])\n",
    "print(enames[2])\n",
    "print(enames[3])"
   ]
  },
  {
   "cell_type": "code",
   "execution_count": 10,
   "id": "d9cbec0f-29fb-40a0-bd24-9db1a5a6fce5",
   "metadata": {},
   "outputs": [
    {
     "name": "stdout",
     "output_type": "stream",
     "text": [
      "<class 'list'>\n",
      "<class 'tuple'>\n",
      "<class 'set'>\n"
     ]
    }
   ],
   "source": [
    "users=['rahul','sonia','priyanka','modi']\n",
    "enames=('rahul','sonia','priyanka','modi')\n",
    "empnames={'rahul','sonia','priyanka','modi'}\n",
    "\n",
    "print(type(users))\n",
    "print(type(enames))\n",
    "print(type(empnames))"
   ]
  },
  {
   "cell_type": "code",
   "execution_count": 11,
   "id": "ff6896a3-e57c-43bd-b209-e64cb5da1b70",
   "metadata": {},
   "outputs": [
    {
     "name": "stdout",
     "output_type": "stream",
     "text": [
      "(10, 20.4, 'rahul gandhi', True, 3)\n"
     ]
    }
   ],
   "source": [
    "#what is tuple object? read only version of list object.\n",
    "a=(10,20.4,'rahul gandhi',True,3)\n",
    "print(a)"
   ]
  },
  {
   "cell_type": "code",
   "execution_count": 12,
   "id": "8e673ace-9fe5-4bd7-a33a-f144af87fd8e",
   "metadata": {},
   "outputs": [
    {
     "name": "stdout",
     "output_type": "stream",
     "text": [
      "['rahul gandhi', 'sonia', 'priyanka', 'modi', 'amit shah']\n"
     ]
    }
   ],
   "source": [
    "users=['rahul','sonia','priyanka','modi']\n",
    "users.append('amit shah')\n",
    "users[0]='rahul gandhi'\n",
    "print(users)"
   ]
  },
  {
   "cell_type": "code",
   "execution_count": 14,
   "id": "8bcee4e9-b965-4be9-8dde-8dcfe975843b",
   "metadata": {},
   "outputs": [
    {
     "name": "stdout",
     "output_type": "stream",
     "text": [
      "set()\n",
      "<class 'set'>\n",
      "<class 'set'>\n"
     ]
    }
   ],
   "source": [
    "l=[] #empty list\n",
    "t=() #empty tuple\n",
    "s={} #empty set\n",
    "d={} #empty dict\n",
    "s1=set() #empty set\n",
    "\n",
    "#how to create empty set? using set() function\n",
    "s=set()\n",
    "print(s)\n",
    "print(type(s))\n",
    "print(type(s1))"
   ]
  },
  {
   "cell_type": "code",
   "execution_count": 15,
   "id": "ace592a3-331f-46fc-9e18-d9dbb992f377",
   "metadata": {},
   "outputs": [
    {
     "name": "stdout",
     "output_type": "stream",
     "text": [
      "{10, 20, 30}\n"
     ]
    }
   ],
   "source": [
    "#what is set? group of elements as one entity and duplicates are not allowed\n",
    "a={10,20,30,10,10,30}\n",
    "print(a)"
   ]
  },
  {
   "cell_type": "code",
   "execution_count": 16,
   "id": "d3bc6653-b4c8-413e-82f3-e415d5180eb9",
   "metadata": {},
   "outputs": [
    {
     "name": "stdout",
     "output_type": "stream",
     "text": [
      "{True, 10, 20.5, 'gn'}\n"
     ]
    }
   ],
   "source": [
    "a={10,20.5,'gn',True,10,20.5}\n",
    "print(a)"
   ]
  },
  {
   "cell_type": "code",
   "execution_count": 17,
   "id": "8cc7218a-43bb-4936-83c3-6d1734f421fa",
   "metadata": {},
   "outputs": [
    {
     "name": "stdout",
     "output_type": "stream",
     "text": [
      "[]\n"
     ]
    }
   ],
   "source": [
    "users=['rahul','sonia','priyanka','modi']\n",
    "enames=('rahul','sonia','priya','modi')\n",
    "ids={10,20,30,40}\n",
    "emp={'id':101,'name':'rahul'}\n",
    "\n",
    "users.clear()\n",
    "print(users)"
   ]
  },
  {
   "cell_type": "code",
   "execution_count": 18,
   "id": "36be3111-bc04-45aa-b825-6d2663f3b8ff",
   "metadata": {},
   "outputs": [
    {
     "ename": "AttributeError",
     "evalue": "'tuple' object has no attribute 'clear'",
     "output_type": "error",
     "traceback": [
      "\u001b[1;31m---------------------------------------------------------------------------\u001b[0m",
      "\u001b[1;31mAttributeError\u001b[0m                            Traceback (most recent call last)",
      "Cell \u001b[1;32mIn[18], line 1\u001b[0m\n\u001b[1;32m----> 1\u001b[0m \u001b[43menames\u001b[49m\u001b[38;5;241;43m.\u001b[39;49m\u001b[43mclear\u001b[49m()\n\u001b[0;32m      2\u001b[0m \u001b[38;5;28mprint\u001b[39m(enames)\n",
      "\u001b[1;31mAttributeError\u001b[0m: 'tuple' object has no attribute 'clear'"
     ]
    }
   ],
   "source": [
    "enames.clear()\n",
    "print(enames)"
   ]
  },
  {
   "cell_type": "code",
   "execution_count": 19,
   "id": "2c2a981b-3f19-41f7-8d6f-d984906334d1",
   "metadata": {},
   "outputs": [
    {
     "name": "stdout",
     "output_type": "stream",
     "text": [
      "set()\n"
     ]
    }
   ],
   "source": [
    "ids.clear()\n",
    "print(ids)"
   ]
  },
  {
   "cell_type": "code",
   "execution_count": 21,
   "id": "32c46c88-7b8f-4fac-91dd-af4eed5a4d05",
   "metadata": {},
   "outputs": [
    {
     "name": "stdout",
     "output_type": "stream",
     "text": [
      "{}\n"
     ]
    }
   ],
   "source": [
    "emp={'id':101,'name':'rahul'}\n",
    "emp.clear()\n",
    "print(emp)"
   ]
  },
  {
   "cell_type": "code",
   "execution_count": 22,
   "id": "908518e0-78af-4bef-9ceb-c0a143c31508",
   "metadata": {},
   "outputs": [
    {
     "name": "stdout",
     "output_type": "stream",
     "text": [
      "{'id': 201, 'name': 'rahul'}\n"
     ]
    }
   ],
   "source": [
    "#what is dict?\n",
    "emp={'id':101,'name':'rahul','id':201}\n",
    "print(emp)"
   ]
  },
  {
   "cell_type": "code",
   "execution_count": null,
   "id": "977b72be-796f-4315-bd74-c9af7600a568",
   "metadata": {},
   "outputs": [],
   "source": []
  }
 ],
 "metadata": {
  "kernelspec": {
   "display_name": "Python 3 (ipykernel)",
   "language": "python",
   "name": "python3"
  },
  "language_info": {
   "codemirror_mode": {
    "name": "ipython",
    "version": 3
   },
   "file_extension": ".py",
   "mimetype": "text/x-python",
   "name": "python",
   "nbconvert_exporter": "python",
   "pygments_lexer": "ipython3",
   "version": "3.12.3"
  }
 },
 "nbformat": 4,
 "nbformat_minor": 5
}
