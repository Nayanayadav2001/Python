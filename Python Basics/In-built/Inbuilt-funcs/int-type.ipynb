{
 "cells": [
  {
   "cell_type": "code",
   "execution_count": null,
   "id": "defc9de1-7054-45e9-834e-46dc361ba776",
   "metadata": {},
   "outputs": [],
   "source": [
    "#input() function"
   ]
  },
  {
   "cell_type": "code",
   "execution_count": 1,
   "id": "9deb8bda-f135-4cf6-99dd-57f578cadde9",
   "metadata": {},
   "outputs": [
    {
     "name": "stdin",
     "output_type": "stream",
     "text": [
      "Enter first number: 10\n",
      "Enter second number: 30\n"
     ]
    },
    {
     "name": "stdout",
     "output_type": "stream",
     "text": [
      "1030\n"
     ]
    }
   ],
   "source": [
    "a=input(\"Enter first number:\")\n",
    "b=input(\"Enter second number:\")\n",
    "print(a+b)"
   ]
  },
  {
   "cell_type": "code",
   "execution_count": null,
   "id": "b94501b1-bafb-49e4-bf93-670aaf8976f4",
   "metadata": {},
   "outputs": [],
   "source": [
    "#the data which is read by the user,by default it is string"
   ]
  },
  {
   "cell_type": "code",
   "execution_count": 2,
   "id": "1e4f97ec-6fe8-4a47-bc6e-7d6739b796f6",
   "metadata": {},
   "outputs": [
    {
     "name": "stdout",
     "output_type": "stream",
     "text": [
      "40\n"
     ]
    }
   ],
   "source": [
    "print(int(a)+int(b))"
   ]
  },
  {
   "cell_type": "code",
   "execution_count": 3,
   "id": "2081e841-18c7-417b-941d-5db76e33d93c",
   "metadata": {},
   "outputs": [
    {
     "name": "stdin",
     "output_type": "stream",
     "text": [
      "Enter first number: 5\n",
      "Enter second number: 8\n"
     ]
    },
    {
     "name": "stdout",
     "output_type": "stream",
     "text": [
      "13\n"
     ]
    }
   ],
   "source": [
    "a=int(input(\"Enter first number:\"))\n",
    "b=int(input(\"Enter second number:\"))\n",
    "print(a+b)"
   ]
  },
  {
   "cell_type": "code",
   "execution_count": 4,
   "id": "87c70c43-13d0-476f-8a34-8b1109f80acd",
   "metadata": {},
   "outputs": [
    {
     "name": "stdin",
     "output_type": "stream",
     "text": [
      "Enter employee id: 798696\n"
     ]
    },
    {
     "name": "stdout",
     "output_type": "stream",
     "text": [
      "<class 'str'>\n",
      "1167205186128\n"
     ]
    }
   ],
   "source": [
    "eid=input(\"Enter employee id:\")\n",
    "print(type(eid))\n",
    "print(id(eid))"
   ]
  },
  {
   "cell_type": "code",
   "execution_count": null,
   "id": "8eda32c8-aedd-4aec-9f77-d6a943727282",
   "metadata": {},
   "outputs": [],
   "source": []
  }
 ],
 "metadata": {
  "kernelspec": {
   "display_name": "Python 3 (ipykernel)",
   "language": "python",
   "name": "python3"
  },
  "language_info": {
   "codemirror_mode": {
    "name": "ipython",
    "version": 3
   },
   "file_extension": ".py",
   "mimetype": "text/x-python",
   "name": "python",
   "nbconvert_exporter": "python",
   "pygments_lexer": "ipython3",
   "version": "3.12.2"
  }
 },
 "nbformat": 4,
 "nbformat_minor": 5
}
