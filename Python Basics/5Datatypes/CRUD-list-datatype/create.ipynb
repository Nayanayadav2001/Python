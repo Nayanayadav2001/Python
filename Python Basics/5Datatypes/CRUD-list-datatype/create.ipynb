{
 "cells": [
  {
   "cell_type": "code",
   "execution_count": 2,
   "id": "4a44e383-dfe7-4e71-9649-b4ec15552d97",
   "metadata": {},
   "outputs": [
    {
     "data": {
      "text/plain": [
       "'\\nmethods may be append()\\ninsert()\\nextend()\\nsort()\\nreverse()\\ncount()\\nindex()\\nremove()\\npop()\\nclear()\\ncopy()\\n'"
      ]
     },
     "execution_count": 2,
     "metadata": {},
     "output_type": "execute_result"
    }
   ],
   "source": [
    "#list is a class which contain methods.\n",
    "'''\n",
    "methods may be append()\n",
    "insert()\n",
    "extend()\n",
    "sort()\n",
    "reverse()\n",
    "count()\n",
    "index()\n",
    "remove()\n",
    "pop()\n",
    "clear()\n",
    "copy()\n",
    "'''"
   ]
  },
  {
   "cell_type": "code",
   "execution_count": 5,
   "id": "1e2d9713-e1fe-492a-afd7-47a069673596",
   "metadata": {},
   "outputs": [
    {
     "name": "stdout",
     "output_type": "stream",
     "text": [
      "[]\n",
      "[10, 20, 30, True, 'abc', 10]\n"
     ]
    }
   ],
   "source": [
    "#HOW TO CREATE LIST OBJECT?\n",
    "#LIST-a group of elements as one entity.\n",
    "l1=[] #empty list\n",
    "print(l1)\n",
    "#-duplicates are allowed and heterogenous are allowed\n",
    "l2=[10,20,30,True,\"abc\",10]\n",
    "print(l2)"
   ]
  },
  {
   "cell_type": "code",
   "execution_count": 12,
   "id": "f11641bb-5d96-4a7b-ae8a-0d7421765c81",
   "metadata": {},
   "outputs": [
    {
     "name": "stdout",
     "output_type": "stream",
     "text": [
      "[1, 2, 3]\n",
      "[1, 2, 3, 4]\n",
      "[10, 20, 30]\n",
      "['R', 'a', 'h', 'u', 'l']\n",
      "[0, 1, 2, 3, 4, 5, 6, 7, 8, 9]\n",
      "<class 'list'>\n",
      "<class 'list'>\n",
      "<class 'list'>\n",
      "<class 'list'>\n",
      "<class 'list'>\n"
     ]
    }
   ],
   "source": [
    "#list is an in-built function expecting an argument(sequence).\n",
    "#l=list(sequence) sequence may be list[],tuple(),set{},str,range()\n",
    "l1=list([1,2,3])\n",
    "l2=list((1,2,3,4))\n",
    "l3=list({10,20,30})\n",
    "l4=list(\"Rahul\")\n",
    "l5=list(range(10))\n",
    "print(l1)\n",
    "print(l2)\n",
    "print(l3)\n",
    "print(l4)\n",
    "print(l5)\n",
    "print(type(l1))\n",
    "print(type(l2))\n",
    "print(type(l3))\n",
    "print(type(l4))\n",
    "print(type(l5))"
   ]
  },
  {
   "cell_type": "code",
   "execution_count": 7,
   "id": "23dd14d2-4455-4b93-ad17-ceb14c99eab6",
   "metadata": {},
   "outputs": [
    {
     "ename": "TypeError",
     "evalue": "list expected at most 1 argument, got 3",
     "output_type": "error",
     "traceback": [
      "\u001b[1;31m---------------------------------------------------------------------------\u001b[0m",
      "\u001b[1;31mTypeError\u001b[0m                                 Traceback (most recent call last)",
      "Cell \u001b[1;32mIn[7], line 1\u001b[0m\n\u001b[1;32m----> 1\u001b[0m l\u001b[38;5;241m=\u001b[39m\u001b[38;5;28;43mlist\u001b[39;49m\u001b[43m(\u001b[49m\u001b[38;5;241;43m1\u001b[39;49m\u001b[43m,\u001b[49m\u001b[38;5;241;43m2\u001b[39;49m\u001b[43m,\u001b[49m\u001b[38;5;241;43m3\u001b[39;49m\u001b[43m)\u001b[49m\n\u001b[0;32m      2\u001b[0m \u001b[38;5;28mprint\u001b[39m(l)\n",
      "\u001b[1;31mTypeError\u001b[0m: list expected at most 1 argument, got 3"
     ]
    }
   ],
   "source": [
    "l4=list(1,2,3)\n",
    "print(l)"
   ]
  },
  {
   "cell_type": "code",
   "execution_count": 8,
   "id": "74db0d7e-c857-407c-bbe9-a24b6208f2e8",
   "metadata": {},
   "outputs": [
    {
     "name": "stdin",
     "output_type": "stream",
     "text": [
      "Enter list (1,2,3,4)\n"
     ]
    },
    {
     "name": "stdout",
     "output_type": "stream",
     "text": [
      "(1, 2, 3, 4)\n"
     ]
    }
   ],
   "source": [
    "#eval is an in-built function.\n",
    "l5=eval(input(\"Enter list\"))\n",
    "print(l5)"
   ]
  },
  {
   "cell_type": "code",
   "execution_count": 9,
   "id": "2ecb8ee3-18b6-4a65-9874-b0097fc1d0cb",
   "metadata": {},
   "outputs": [
    {
     "name": "stdout",
     "output_type": "stream",
     "text": [
      "['Rahul', 'Gandhi']\n"
     ]
    }
   ],
   "source": [
    "l6=\"Rahul Gandhi\".split()\n",
    "print(l6)"
   ]
  },
  {
   "cell_type": "code",
   "execution_count": 14,
   "id": "f5907b7a-137b-4695-a68c-5c6cd28919d8",
   "metadata": {},
   "outputs": [
    {
     "name": "stdout",
     "output_type": "stream",
     "text": [
      "[1, 2, 3]\n"
     ]
    }
   ],
   "source": [
    "l1=[1,2,3]\n",
    "l2=l1.copy()\n",
    "print(l2)"
   ]
  },
  {
   "cell_type": "code",
   "execution_count": null,
   "id": "59fcb994-f77c-4d6a-9410-4f2514f8c346",
   "metadata": {},
   "outputs": [],
   "source": []
  }
 ],
 "metadata": {
  "kernelspec": {
   "display_name": "Python 3 (ipykernel)",
   "language": "python",
   "name": "python3"
  },
  "language_info": {
   "codemirror_mode": {
    "name": "ipython",
    "version": 3
   },
   "file_extension": ".py",
   "mimetype": "text/x-python",
   "name": "python",
   "nbconvert_exporter": "python",
   "pygments_lexer": "ipython3",
   "version": "3.12.3"
  }
 },
 "nbformat": 4,
 "nbformat_minor": 5
}
