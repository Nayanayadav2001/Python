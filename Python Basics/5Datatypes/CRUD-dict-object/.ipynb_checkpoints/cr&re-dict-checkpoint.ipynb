{
 "cells": [
  {
   "cell_type": "code",
   "execution_count": 1,
   "id": "38c9b3a4-d1a0-4e4c-8648-d68cfa192fc5",
   "metadata": {},
   "outputs": [
    {
     "data": {
      "text/plain": [
       "'\\ngroup of key:value pairs as one entity\\nduplicates are not allowed\\ninsertion order not preserved\\nindexing and slicing concept not applicable.\\n'"
      ]
     },
     "execution_count": 1,
     "metadata": {},
     "output_type": "execute_result"
    }
   ],
   "source": [
    "#What is dict object?\n",
    "'''\n",
    "group of key:value pairs as one entity\n",
    "duplicates are not allowed\n",
    "insertion order not preserved\n",
    "indexing and slicing concept not applicable.\n",
    "'''"
   ]
  },
  {
   "cell_type": "code",
   "execution_count": 4,
   "id": "fcefe041-b01a-4fd8-aa50-ce915ed39a33",
   "metadata": {},
   "outputs": [
    {
     "name": "stdout",
     "output_type": "stream",
     "text": [
      "<class 'dict'>\n"
     ]
    }
   ],
   "source": [
    "#how to create?\n",
    "d1={}\n",
    "print(type(d1))"
   ]
  },
  {
   "cell_type": "code",
   "execution_count": 5,
   "id": "fb679a01-a52c-4d84-ad1f-16fbb90b6d0d",
   "metadata": {},
   "outputs": [
    {
     "name": "stdout",
     "output_type": "stream",
     "text": [
      "<class 'set'>\n"
     ]
    }
   ],
   "source": [
    "s1=set()\n",
    "print(type(s1))"
   ]
  },
  {
   "cell_type": "code",
   "execution_count": 14,
   "id": "894956da-a2e4-4b15-a189-53618999be6d",
   "metadata": {},
   "outputs": [
    {
     "name": "stdout",
     "output_type": "stream",
     "text": [
      "<class 'dict'>\n"
     ]
    }
   ],
   "source": [
    "emp={'id':101,'name':'siri','sal':45000,'sal':46000}\n",
    "d2=dict()\n",
    "#copy()\n",
    "print(type(d2))"
   ]
  },
  {
   "cell_type": "code",
   "execution_count": 15,
   "id": "630ddd33-91be-49d8-b390-85eaac75c0c9",
   "metadata": {},
   "outputs": [
    {
     "name": "stdout",
     "output_type": "stream",
     "text": [
      "{'id': 101, 'name': 'siri', 'sal': 46000}\n"
     ]
    }
   ],
   "source": [
    "#how to read?\n",
    "#get(key)\n",
    "#keys()\n",
    "#values()\n",
    "#items()\n",
    "print(emp)"
   ]
  },
  {
   "cell_type": "code",
   "execution_count": 11,
   "id": "577d74a8-3a98-4577-81d5-a8cfb9f13815",
   "metadata": {},
   "outputs": [
    {
     "name": "stdout",
     "output_type": "stream",
     "text": [
      "siri\n",
      "101\n",
      "45000\n"
     ]
    }
   ],
   "source": [
    "#dict['keys']\n",
    "print(emp['name'])\n",
    "print(emp['id'])\n",
    "print(emp['sal'])\n"
   ]
  },
  {
   "cell_type": "code",
   "execution_count": 13,
   "id": "80bc535c-f417-4e5c-9ae7-6cea527d9a0c",
   "metadata": {},
   "outputs": [
    {
     "name": "stdout",
     "output_type": "stream",
     "text": [
      "abc\n",
      "xyz\n",
      "rst\n"
     ]
    }
   ],
   "source": [
    "users={101:'abc',102:'xyz',103:'rst'}\n",
    "print(users[101])\n",
    "print(users[102])\n",
    "print(users[103])"
   ]
  },
  {
   "cell_type": "code",
   "execution_count": 19,
   "id": "8c1fe5d6-dcae-4405-b8bd-08d52ac68653",
   "metadata": {},
   "outputs": [
    {
     "name": "stdout",
     "output_type": "stream",
     "text": [
      "dict_keys(['id', 'name', 'sal'])\n"
     ]
    }
   ],
   "source": [
    "#to get all the keys\n",
    "#using keys()method.\n",
    "emp={'id':1,'name':'siri','sal':45000}\n",
    "keys=emp.keys()\n",
    "print(keys)"
   ]
  },
  {
   "cell_type": "code",
   "execution_count": 20,
   "id": "c127e9be-f353-42d5-bc35-4c99d104da4f",
   "metadata": {},
   "outputs": [
    {
     "name": "stdout",
     "output_type": "stream",
     "text": [
      "dict_values([1, 'siri', 45000])\n"
     ]
    }
   ],
   "source": [
    "#to get all the values\n",
    "#using values()method\n",
    "values=emp.values()\n",
    "print(values)"
   ]
  },
  {
   "cell_type": "code",
   "execution_count": 22,
   "id": "1537a149-7b6d-4044-b975-be88b73abe15",
   "metadata": {},
   "outputs": [
    {
     "ename": "AttributeError",
     "evalue": "'dict' object has no attribute 'item'",
     "output_type": "error",
     "traceback": [
      "\u001b[1;31m---------------------------------------------------------------------------\u001b[0m",
      "\u001b[1;31mAttributeError\u001b[0m                            Traceback (most recent call last)",
      "Cell \u001b[1;32mIn[22], line 3\u001b[0m\n\u001b[0;32m      1\u001b[0m \u001b[38;5;66;03m#to get all the items.\u001b[39;00m\n\u001b[0;32m      2\u001b[0m \u001b[38;5;66;03m#using items()method.\u001b[39;00m\n\u001b[1;32m----> 3\u001b[0m item\u001b[38;5;241m=\u001b[39m\u001b[43memp\u001b[49m\u001b[38;5;241;43m.\u001b[39;49m\u001b[43mitem\u001b[49m()\n\u001b[0;32m      4\u001b[0m \u001b[38;5;28mprint\u001b[39m(item)\n",
      "\u001b[1;31mAttributeError\u001b[0m: 'dict' object has no attribute 'item'"
     ]
    }
   ],
   "source": [
    "#to get all the items.\n",
    "#using items()method.\n",
    "item=emp.item()\n",
    "print(item)"
   ]
  },
  {
   "cell_type": "code",
   "execution_count": 23,
   "id": "79789fe2-3960-4cfd-a09a-44e8f9d47817",
   "metadata": {},
   "outputs": [
    {
     "name": "stdout",
     "output_type": "stream",
     "text": [
      "dict_items([('id', 1), ('name', 'siri'), ('sal', 45000)])\n"
     ]
    }
   ],
   "source": [
    "#to get all the items.\n",
    "#using items()method.\n",
    "items=emp.items()\n",
    "print(items)"
   ]
  },
  {
   "cell_type": "code",
   "execution_count": 24,
   "id": "db86428f-4fe8-458c-b880-e1d96c1b6023",
   "metadata": {},
   "outputs": [
    {
     "name": "stdout",
     "output_type": "stream",
     "text": [
      "id\n",
      "name\n",
      "sal\n"
     ]
    }
   ],
   "source": [
    "#how to iterate?\n",
    "for key in keys:\n",
    "    print(key)"
   ]
  },
  {
   "cell_type": "code",
   "execution_count": 25,
   "id": "a811d2f1-042f-4759-b99d-34cb65bcac51",
   "metadata": {},
   "outputs": [
    {
     "name": "stdout",
     "output_type": "stream",
     "text": [
      "1\n",
      "siri\n",
      "45000\n"
     ]
    }
   ],
   "source": [
    "for value in values:\n",
    "    print(value)"
   ]
  },
  {
   "cell_type": "code",
   "execution_count": 29,
   "id": "4cced0d6-13e7-432f-ac94-760a38413b36",
   "metadata": {},
   "outputs": [
    {
     "name": "stdout",
     "output_type": "stream",
     "text": [
      "id 1\n",
      "name siri\n",
      "sal 45000\n"
     ]
    }
   ],
   "source": [
    "for key,value in items:\n",
    "    print(key,value)"
   ]
  },
  {
   "cell_type": "code",
   "execution_count": 30,
   "id": "2997cde6-a7b6-4483-b477-436fcdd01cf7",
   "metadata": {},
   "outputs": [
    {
     "name": "stdout",
     "output_type": "stream",
     "text": [
      "1\n",
      "siri\n",
      "45000\n"
     ]
    }
   ],
   "source": [
    "#how to read dict values using key property\n",
    "for key in emp.keys():\n",
    "    print(emp[key])"
   ]
  },
  {
   "cell_type": "code",
   "execution_count": 31,
   "id": "41de579c-15b8-4fe4-8c2d-dcf984f5c916",
   "metadata": {},
   "outputs": [
    {
     "name": "stdout",
     "output_type": "stream",
     "text": [
      "id : 1\n",
      "name : siri\n",
      "sal : 45000\n"
     ]
    }
   ],
   "source": [
    "for key,value in items:\n",
    "    print(key,\":\",value)"
   ]
  },
  {
   "cell_type": "code",
   "execution_count": 34,
   "id": "e4ba0483-3c1b-4151-a539-b3b3db96c7a7",
   "metadata": {},
   "outputs": [
    {
     "name": "stdout",
     "output_type": "stream",
     "text": [
      "101\n"
     ]
    }
   ],
   "source": [
    "#how to read dict values using get()method?\n",
    "emp={'eid':101,'name':'shru','sal':46000}\n",
    "print(emp.get('eid'))"
   ]
  },
  {
   "cell_type": "code",
   "execution_count": null,
   "id": "537529f6-1d56-49bb-bb38-e164506cac8e",
   "metadata": {},
   "outputs": [],
   "source": []
  }
 ],
 "metadata": {
  "kernelspec": {
   "display_name": "Python 3 (ipykernel)",
   "language": "python",
   "name": "python3"
  },
  "language_info": {
   "codemirror_mode": {
    "name": "ipython",
    "version": 3
   },
   "file_extension": ".py",
   "mimetype": "text/x-python",
   "name": "python",
   "nbconvert_exporter": "python",
   "pygments_lexer": "ipython3",
   "version": "3.12.3"
  }
 },
 "nbformat": 4,
 "nbformat_minor": 5
}
