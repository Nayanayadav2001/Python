{
 "cells": [
  {
   "cell_type": "code",
   "execution_count": 4,
   "id": "fe615c0f-0439-4d52-b6e5-de4b01481fec",
   "metadata": {},
   "outputs": [
    {
     "name": "stdout",
     "output_type": "stream",
     "text": [
      "Nayana\n",
      "Shru\n",
      "Siri\n",
      "Nayana\n"
     ]
    }
   ],
   "source": [
    "#how to read list object?\n",
    "#using indexing,both +ve and -ve\n",
    "enames=[\"Nayana\",\"Siri\",\"Shru\"]\n",
    "print(enames[0])\n",
    "print(enames[-1])\n",
    "print(enames[-2])\n",
    "print(enames[-3])"
   ]
  },
  {
   "cell_type": "code",
   "execution_count": 2,
   "id": "dbb5e619-b946-49d3-816e-bb651d6a7772",
   "metadata": {},
   "outputs": [
    {
     "name": "stdout",
     "output_type": "stream",
     "text": [
      "nayana\n",
      "siri\n",
      "shru\n"
     ]
    }
   ],
   "source": [
    "#how to iterate list object?\n",
    "enames=[\"nayana\",\"siri\",\"shru\"]\n",
    "for ename in enames:\n",
    "    print(ename)"
   ]
  },
  {
   "cell_type": "code",
   "execution_count": 3,
   "id": "2540f51f-9c98-4ec7-a185-eadcdcb69677",
   "metadata": {},
   "outputs": [
    {
     "name": "stdout",
     "output_type": "stream",
     "text": [
      "nayana\n",
      "siri\n",
      "shru\n"
     ]
    }
   ],
   "source": [
    "i=0\n",
    "while i<=len(enames)-1:\n",
    "    print(enames[i])\n",
    "    i=i+1"
   ]
  },
  {
   "cell_type": "code",
   "execution_count": null,
   "id": "fe2cc4e0-d96b-4266-920c-b7adcc4e6a66",
   "metadata": {},
   "outputs": [],
   "source": []
  }
 ],
 "metadata": {
  "kernelspec": {
   "display_name": "Python 3 (ipykernel)",
   "language": "python",
   "name": "python3"
  },
  "language_info": {
   "codemirror_mode": {
    "name": "ipython",
    "version": 3
   },
   "file_extension": ".py",
   "mimetype": "text/x-python",
   "name": "python",
   "nbconvert_exporter": "python",
   "pygments_lexer": "ipython3",
   "version": "3.12.3"
  }
 },
 "nbformat": 4,
 "nbformat_minor": 5
}
