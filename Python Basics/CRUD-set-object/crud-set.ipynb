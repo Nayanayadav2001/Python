{
 "cells": [
  {
   "cell_type": "code",
   "execution_count": 1,
   "id": "d7b9e67c-86cf-4b33-b799-836355289e85",
   "metadata": {},
   "outputs": [
    {
     "data": {
      "text/plain": [
       "'class set:\\ngroup of elements as one entity\\nduplicates are not allowed\\nindexing concept is not applicable\\nset is mutable object\\niterated using for loop only'"
      ]
     },
     "execution_count": 1,
     "metadata": {},
     "output_type": "execute_result"
    }
   ],
   "source": [
    "'''class set:\n",
    "group of elements as one entity\n",
    "duplicates are not allowed\n",
    "indexing concept is not applicable\n",
    "set is mutable object\n",
    "iterated using for loop only'''"
   ]
  },
  {
   "cell_type": "code",
   "execution_count": 3,
   "id": "94213318-cd51-4299-89e3-88823e3147c5",
   "metadata": {},
   "outputs": [],
   "source": [
    "#how to create?\n",
    "ids1={101,102,103}\n",
    "ids2=set(range(10))"
   ]
  },
  {
   "cell_type": "code",
   "execution_count": 4,
   "id": "1cb1ece4-15e4-46de-9f4c-d303c8b7e30d",
   "metadata": {},
   "outputs": [
    {
     "name": "stdout",
     "output_type": "stream",
     "text": [
      "{101, 102, 103}\n",
      "{0, 1, 2, 3, 4, 5, 6, 7, 8, 9}\n"
     ]
    }
   ],
   "source": [
    "#how to read?\n",
    "print(ids1)\n",
    "print(ids2)"
   ]
  },
  {
   "cell_type": "code",
   "execution_count": 7,
   "id": "72d99668-a7f0-443d-a0df-08c2ff5ec805",
   "metadata": {},
   "outputs": [
    {
     "name": "stdout",
     "output_type": "stream",
     "text": [
      "{104, 101, 102, 103}\n"
     ]
    }
   ],
   "source": [
    "#how to update?\n",
    "#to add element to the set object\n",
    "'''add()\n",
    "union()\n",
    "intersection()\n",
    "symmetric()\n",
    "differece()'''\n",
    "ids={101,102,103}\n",
    "ids.add(104)\n",
    "print(ids)\n",
    "#no oreder guarantee"
   ]
  },
  {
   "cell_type": "code",
   "execution_count": 8,
   "id": "21625713-5708-4cc7-87b8-a8d5d268abb1",
   "metadata": {},
   "outputs": [
    {
     "name": "stdout",
     "output_type": "stream",
     "text": [
      "{40, 10, 30}\n"
     ]
    }
   ],
   "source": [
    "#how to delete?\n",
    "'''remove()\n",
    "pop()\n",
    "discard()\n",
    "clear()\n",
    "del()'''\n",
    "ids={10,20,30,40}\n",
    "ids.remove(20)\n",
    "print(ids)"
   ]
  },
  {
   "cell_type": "code",
   "execution_count": 9,
   "id": "1cb1a56c-ad6a-436a-a64a-efa857540e2d",
   "metadata": {},
   "outputs": [
    {
     "ename": "KeyError",
     "evalue": "1",
     "output_type": "error",
     "traceback": [
      "\u001b[1;31m---------------------------------------------------------------------------\u001b[0m",
      "\u001b[1;31mKeyError\u001b[0m                                  Traceback (most recent call last)",
      "Cell \u001b[1;32mIn[9], line 1\u001b[0m\n\u001b[1;32m----> 1\u001b[0m \u001b[43mids\u001b[49m\u001b[38;5;241;43m.\u001b[39;49m\u001b[43mremove\u001b[49m\u001b[43m(\u001b[49m\u001b[38;5;241;43m1\u001b[39;49m\u001b[43m)\u001b[49m\n\u001b[0;32m      2\u001b[0m \u001b[38;5;28mprint\u001b[39m(ids)\n",
      "\u001b[1;31mKeyError\u001b[0m: 1"
     ]
    }
   ],
   "source": [
    "ids.remove(1)\n",
    "print(ids)"
   ]
  },
  {
   "cell_type": "code",
   "execution_count": 10,
   "id": "dbc3cdc1-14e0-4863-a75a-a3a76718b05c",
   "metadata": {},
   "outputs": [
    {
     "name": "stdout",
     "output_type": "stream",
     "text": [
      "{40, 10, 20}\n"
     ]
    }
   ],
   "source": [
    "ids={10,20,30,40}\n",
    "ids.discard(30)\n",
    "print(ids)"
   ]
  },
  {
   "cell_type": "code",
   "execution_count": 14,
   "id": "8f302056-108c-4bdc-b5a5-a76144b5a9d4",
   "metadata": {},
   "outputs": [
    {
     "name": "stdout",
     "output_type": "stream",
     "text": [
      "{40, 10}\n"
     ]
    }
   ],
   "source": [
    "ids.discard(501)\n",
    "print(ids)"
   ]
  },
  {
   "cell_type": "code",
   "execution_count": null,
   "id": "6508fbd5-7e57-4626-87fd-343aa613d476",
   "metadata": {},
   "outputs": [],
   "source": []
  },
  {
   "cell_type": "code",
   "execution_count": null,
   "id": "d1955a58-b1d4-480e-b065-b8e16dc0e104",
   "metadata": {},
   "outputs": [],
   "source": []
  }
 ],
 "metadata": {
  "kernelspec": {
   "display_name": "Python 3 (ipykernel)",
   "language": "python",
   "name": "python3"
  },
  "language_info": {
   "codemirror_mode": {
    "name": "ipython",
    "version": 3
   },
   "file_extension": ".py",
   "mimetype": "text/x-python",
   "name": "python",
   "nbconvert_exporter": "python",
   "pygments_lexer": "ipython3",
   "version": "3.12.3"
  }
 },
 "nbformat": 4,
 "nbformat_minor": 5
}
