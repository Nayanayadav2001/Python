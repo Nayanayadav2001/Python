{
 "cells": [
  {
   "cell_type": "code",
   "execution_count": 1,
   "id": "9b2259ce-4415-4873-beb0-bd1fc369a605",
   "metadata": {},
   "outputs": [
    {
     "ename": "TypeError",
     "evalue": "verify() takes 0 positional arguments but 1 was given",
     "output_type": "error",
     "traceback": [
      "\u001b[1;31m---------------------------------------------------------------------------\u001b[0m",
      "\u001b[1;31mTypeError\u001b[0m                                 Traceback (most recent call last)",
      "Cell \u001b[1;32mIn[1], line 4\u001b[0m\n\u001b[0;32m      1\u001b[0m \u001b[38;5;28;01mdef\u001b[39;00m \u001b[38;5;21mverify\u001b[39m():\n\u001b[0;32m      2\u001b[0m     \u001b[38;5;28;01mpass\u001b[39;00m\n\u001b[1;32m----> 4\u001b[0m \u001b[38;5;129;43m@verify\u001b[39;49m\n\u001b[0;32m      5\u001b[0m \u001b[38;5;28;43;01mdef\u001b[39;49;00m\u001b[43m \u001b[49m\u001b[38;5;21;43mwish\u001b[39;49m\u001b[43m(\u001b[49m\u001b[43m)\u001b[49m\u001b[43m:\u001b[49m\n\u001b[0;32m      6\u001b[0m \u001b[43m    \u001b[49m\u001b[38;5;28;43;01mreturn\u001b[39;49;00m\u001b[43m \u001b[49m\u001b[38;5;124;43m\"\u001b[39;49m\u001b[38;5;124;43mHello\u001b[39;49m\u001b[38;5;124;43m\"\u001b[39;49m\n\u001b[0;32m      8\u001b[0m wish()\n",
      "\u001b[1;31mTypeError\u001b[0m: verify() takes 0 positional arguments but 1 was given"
     ]
    }
   ],
   "source": [
    "def verify():\n",
    "    pass\n",
    "\n",
    "@verify\n",
    "def wish():\n",
    "    return \"Hello\"\n",
    "\n",
    "wish()"
   ]
  },
  {
   "cell_type": "code",
   "execution_count": 4,
   "id": "ae181686-1390-4f61-a795-c166a85c5c34",
   "metadata": {},
   "outputs": [
    {
     "name": "stdout",
     "output_type": "stream",
     "text": [
      "2.0\n",
      "Can not divide by zero\n",
      "10.0\n"
     ]
    }
   ],
   "source": [
    "def smart_div(func):\n",
    "    def inner(a,b):\n",
    "        if b==0:\n",
    "            print(\"Can not divide by zero\")\n",
    "        else:\n",
    "            return func(a,b)\n",
    "    return inner\n",
    "\n",
    "@smart_div\n",
    "def division(a,b):\n",
    "    print(a/b)\n",
    "\n",
    "division(10,5)\n",
    "division(10,0)\n",
    "division(10,1)"
   ]
  },
  {
   "cell_type": "code",
   "execution_count": null,
   "id": "eaf3cb4b-d40d-43aa-9344-035bca882d16",
   "metadata": {},
   "outputs": [],
   "source": [
    "#variables are two types: Local variable and Global variables.\n",
    "#local variable scope is within the block\n",
    "#Global variable scope is outside the block and can access entire file."
   ]
  },
  {
   "cell_type": "code",
   "execution_count": 5,
   "id": "c0b40738-aeba-4ddd-ab86-253a442f8ade",
   "metadata": {},
   "outputs": [
    {
     "name": "stdout",
     "output_type": "stream",
     "text": [
      "500\n",
      "500\n"
     ]
    },
    {
     "ename": "NameError",
     "evalue": "name 'acc_bal' is not defined",
     "output_type": "error",
     "traceback": [
      "\u001b[1;31m---------------------------------------------------------------------------\u001b[0m",
      "\u001b[1;31mNameError\u001b[0m                                 Traceback (most recent call last)",
      "Cell \u001b[1;32mIn[5], line 8\u001b[0m\n\u001b[0;32m      6\u001b[0m account(\u001b[38;5;241m101\u001b[39m,\u001b[38;5;124m\"\u001b[39m\u001b[38;5;124msiri\u001b[39m\u001b[38;5;124m\"\u001b[39m)\n\u001b[0;32m      7\u001b[0m \u001b[38;5;28mprint\u001b[39m(min_bal)\n\u001b[1;32m----> 8\u001b[0m \u001b[38;5;28mprint\u001b[39m(\u001b[43macc_bal\u001b[49m)\n",
      "\u001b[1;31mNameError\u001b[0m: name 'acc_bal' is not defined"
     ]
    }
   ],
   "source": [
    "min_bal=500 #global variable\n",
    "def account(id,name):\n",
    "    acc_bal=5000 #local variable\n",
    "    print(min_bal)\n",
    "\n",
    "account(101,\"siri\")\n",
    "print(min_bal)\n",
    "print(acc_bal)"
   ]
  },
  {
   "cell_type": "code",
   "execution_count": 6,
   "id": "0952c573-d9a8-4e61-a124-1035074033fe",
   "metadata": {},
   "outputs": [],
   "source": [
    "#how to access local variable as global?\n",
    "#Using global keyword"
   ]
  },
  {
   "cell_type": "code",
   "execution_count": 8,
   "id": "ddc0d80a-8c80-41b7-933a-b1b94e063da3",
   "metadata": {},
   "outputs": [
    {
     "name": "stdout",
     "output_type": "stream",
     "text": [
      "10\n",
      "20\n",
      "30\n",
      "40\n",
      "10\n"
     ]
    },
    {
     "ename": "NameError",
     "evalue": "name 'c' is not defined",
     "output_type": "error",
     "traceback": [
      "\u001b[1;31m---------------------------------------------------------------------------\u001b[0m",
      "\u001b[1;31mNameError\u001b[0m                                 Traceback (most recent call last)",
      "Cell \u001b[1;32mIn[8], line 16\u001b[0m\n\u001b[0;32m     13\u001b[0m     \u001b[38;5;28mprint\u001b[39m(a)\n\u001b[0;32m     14\u001b[0m     \u001b[38;5;28mprint\u001b[39m(c)\n\u001b[1;32m---> 16\u001b[0m \u001b[43mf2\u001b[49m\u001b[43m(\u001b[49m\u001b[43m)\u001b[49m\n",
      "Cell \u001b[1;32mIn[8], line 14\u001b[0m, in \u001b[0;36mf2\u001b[1;34m()\u001b[0m\n\u001b[0;32m     12\u001b[0m \u001b[38;5;28;01mdef\u001b[39;00m \u001b[38;5;21mf2\u001b[39m():\n\u001b[0;32m     13\u001b[0m     \u001b[38;5;28mprint\u001b[39m(a)\n\u001b[1;32m---> 14\u001b[0m     \u001b[38;5;28mprint\u001b[39m(\u001b[43mc\u001b[49m)\n",
      "\u001b[1;31mNameError\u001b[0m: name 'c' is not defined"
     ]
    }
   ],
   "source": [
    "a=10\n",
    "b=20\n",
    "def f1():\n",
    "    c=30\n",
    "    d=40\n",
    "    print(a)\n",
    "    print(b)\n",
    "    print(c)\n",
    "    print(d)\n",
    "\n",
    "f1()\n",
    "def f2():\n",
    "    print(a)\n",
    "    print(c)\n",
    "\n",
    "f2()"
   ]
  },
  {
   "cell_type": "code",
   "execution_count": 2,
   "id": "5d60ab0d-5821-4a49-8c52-418538eb343e",
   "metadata": {},
   "outputs": [
    {
     "name": "stdout",
     "output_type": "stream",
     "text": [
      "10\n",
      "20\n"
     ]
    }
   ],
   "source": [
    "a=10 #global variable\n",
    "\n",
    "def f1():\n",
    "    global b\n",
    "    b=20\n",
    "\n",
    "f1()\n",
    "print(a)\n",
    "print(b)"
   ]
  },
  {
   "cell_type": "code",
   "execution_count": null,
   "id": "d2223c39-0825-4c1c-93a9-ffdf476f46e9",
   "metadata": {},
   "outputs": [],
   "source": []
  }
 ],
 "metadata": {
  "kernelspec": {
   "display_name": "Python 3 (ipykernel)",
   "language": "python",
   "name": "python3"
  },
  "language_info": {
   "codemirror_mode": {
    "name": "ipython",
    "version": 3
   },
   "file_extension": ".py",
   "mimetype": "text/x-python",
   "name": "python",
   "nbconvert_exporter": "python",
   "pygments_lexer": "ipython3",
   "version": "3.12.3"
  }
 },
 "nbformat": 4,
 "nbformat_minor": 5
}
