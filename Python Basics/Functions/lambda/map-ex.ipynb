{
 "cells": [
  {
   "cell_type": "code",
   "execution_count": 1,
   "id": "0d352e86-acfe-4528-900c-b06423aadc99",
   "metadata": {},
   "outputs": [],
   "source": [
    "#map is an in-built function\n",
    "#map expects (function,sequence)"
   ]
  },
  {
   "cell_type": "code",
   "execution_count": 4,
   "id": "03f2de49-b349-4169-a6f8-bb2ba6194d05",
   "metadata": {},
   "outputs": [
    {
     "name": "stdout",
     "output_type": "stream",
     "text": [
      "[34, 35, 36, 37, 38, 39]\n",
      "[35, 36, 37, 38, 39, 40]\n"
     ]
    }
   ],
   "source": [
    "#without map function\n",
    "marks=[34,35,36,37,38,39]\n",
    "new_marks=[]\n",
    "def add_mark(mark):\n",
    "    return mark+1\n",
    "\n",
    "for mark in marks:\n",
    "    new_marks.append(add_mark(mark))\n",
    "\n",
    "print(marks)\n",
    "print(new_marks)"
   ]
  },
  {
   "cell_type": "code",
   "execution_count": 9,
   "id": "9d90611b-c652-41e2-bad6-9d1019cb82bc",
   "metadata": {},
   "outputs": [
    {
     "name": "stdout",
     "output_type": "stream",
     "text": [
      "[35, 36, 37, 38, 39]\n",
      "[36, 37, 38, 39, 40]\n"
     ]
    }
   ],
   "source": [
    "#with map function\n",
    "marks=[35,36,37,38,39]\n",
    "new_marks=[]\n",
    "def add_mark(mark):\n",
    "    return mark+1\n",
    "\n",
    "map_obj=map(add_mark,marks)\n",
    "new_marks=list(map_obj)\n",
    "print(marks)\n",
    "print(new_marks)"
   ]
  },
  {
   "cell_type": "code",
   "execution_count": 10,
   "id": "13e37cb2-eecf-4872-af41-39fee487667f",
   "metadata": {},
   "outputs": [
    {
     "name": "stdout",
     "output_type": "stream",
     "text": [
      "[9, 19, 29, 39, 49]\n",
      "[10, 20, 30, 40, 50]\n"
     ]
    }
   ],
   "source": [
    "#converting to lambda\n",
    "marks=[9,19,29,39,49]\n",
    "\n",
    "map_obj=map(lambda mark:mark+1,marks)\n",
    "new_marks=list(map_obj)\n",
    "\n",
    "print(marks)\n",
    "print(new_marks)"
   ]
  },
  {
   "cell_type": "code",
   "execution_count": 11,
   "id": "5118fe7f-3769-4869-89b1-ccfe62ad43a3",
   "metadata": {},
   "outputs": [
    {
     "name": "stdout",
     "output_type": "stream",
     "text": [
      "[10, 20, 30, 40, 50]\n"
     ]
    }
   ],
   "source": [
    "#concise code\n",
    "marks=[9,19,29,39,49]\n",
    "\n",
    "print(list(map(lambda mark:mark+1,marks)))"
   ]
  },
  {
   "cell_type": "code",
   "execution_count": 12,
   "id": "a9063720-51f5-4d7a-b5f9-3e7b7f513099",
   "metadata": {},
   "outputs": [
    {
     "name": "stdout",
     "output_type": "stream",
     "text": [
      "NAYANA\n"
     ]
    }
   ],
   "source": [
    "#without map\n",
    "def uppercase(name):\n",
    "    return name.upper()\n",
    "\n",
    "name=uppercase(\"nayana\")\n",
    "print(name)"
   ]
  },
  {
   "cell_type": "code",
   "execution_count": 17,
   "id": "a719fbe7-8cac-4f2f-bcf7-f776fa13f06c",
   "metadata": {},
   "outputs": [
    {
     "name": "stdout",
     "output_type": "stream",
     "text": [
      "['NAYANA', 'SIRI', 'SHRU']\n"
     ]
    }
   ],
   "source": [
    "enames=[\"nayana\",\"siri\",\"shru\"]\n",
    "\n",
    "def uppercase(name):\n",
    "    return name.upper()\n",
    "\n",
    "map_ref=map(uppercase,enames)\n",
    "new_enames=list(map_ref)\n",
    "\n",
    "print(new_enames)"
   ]
  },
  {
   "cell_type": "code",
   "execution_count": 14,
   "id": "18a6c53c-81fd-46c2-b927-bff1a63bdf42",
   "metadata": {},
   "outputs": [
    {
     "name": "stdout",
     "output_type": "stream",
     "text": [
      "['nayana', 'siri', 'shru']\n",
      "['NAYANA', 'SIRI', 'SHRU']\n"
     ]
    }
   ],
   "source": [
    "enames=[\"nayana\",\"siri\",\"shru\"]\n",
    "\n",
    "new_enames=list(map(lambda name:name.upper(),enames))\n",
    "\n",
    "print(enames)\n",
    "print(new_enames)"
   ]
  },
  {
   "cell_type": "code",
   "execution_count": 15,
   "id": "b9b6bc5f-5203-4290-8bc9-d5d3ae51f914",
   "metadata": {},
   "outputs": [
    {
     "name": "stdout",
     "output_type": "stream",
     "text": [
      "[10, 20, 30, 40]\n",
      "[20, 40, 60, 80]\n"
     ]
    }
   ],
   "source": [
    "numbers=[10,20,30,40]\n",
    "\n",
    "new_numbers=list(map(lambda num:num*2,numbers))\n",
    "print(numbers)\n",
    "print(new_numbers)"
   ]
  },
  {
   "cell_type": "code",
   "execution_count": 20,
   "id": "4f2b61a6-abdf-42c9-a14d-593be87bcb68",
   "metadata": {},
   "outputs": [
    {
     "name": "stdout",
     "output_type": "stream",
     "text": [
      "[False, True, False, True, False, True, False, True, False, True]\n"
     ]
    }
   ],
   "source": [
    "numbers=[1,2,3,4,5,6,7,8,9,10]\n",
    "\n",
    "print(list(map(lambda num:num%2 == 0,numbers)))"
   ]
  },
  {
   "cell_type": "code",
   "execution_count": null,
   "id": "a5facb9c-c244-4196-ac7e-166f4f1db38d",
   "metadata": {},
   "outputs": [],
   "source": []
  }
 ],
 "metadata": {
  "kernelspec": {
   "display_name": "Python 3 (ipykernel)",
   "language": "python",
   "name": "python3"
  },
  "language_info": {
   "codemirror_mode": {
    "name": "ipython",
    "version": 3
   },
   "file_extension": ".py",
   "mimetype": "text/x-python",
   "name": "python",
   "nbconvert_exporter": "python",
   "pygments_lexer": "ipython3",
   "version": "3.12.3"
  }
 },
 "nbformat": 4,
 "nbformat_minor": 5
}
